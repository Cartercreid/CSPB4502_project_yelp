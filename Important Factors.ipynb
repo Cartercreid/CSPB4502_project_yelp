{
 "cells": [
  {
   "cell_type": "code",
   "execution_count": 1,
   "metadata": {},
   "outputs": [],
   "source": [
    "import pyspark as ps\n",
    "from pyspark.sql import SparkSession"
   ]
  },
  {
   "cell_type": "code",
   "execution_count": 43,
   "metadata": {},
   "outputs": [],
   "source": [
    "import string\n",
    "import nltk\n",
    "from nltk.corpus import stopwords\n",
    "import pandas as pd"
   ]
  },
  {
   "cell_type": "code",
   "execution_count": 2,
   "metadata": {},
   "outputs": [],
   "source": [
    "spark1 = SparkSession.builder.appName('Ops').getOrCreate()"
   ]
  },
  {
   "cell_type": "code",
   "execution_count": 3,
   "metadata": {},
   "outputs": [
    {
     "name": "stdout",
     "output_type": "stream",
     "text": [
      "root\n",
      " |-- average_stars: double (nullable = true)\n",
      " |-- compliment_cool: long (nullable = true)\n",
      " |-- compliment_cute: long (nullable = true)\n",
      " |-- compliment_funny: long (nullable = true)\n",
      " |-- compliment_hot: long (nullable = true)\n",
      " |-- compliment_list: long (nullable = true)\n",
      " |-- compliment_more: long (nullable = true)\n",
      " |-- compliment_note: long (nullable = true)\n",
      " |-- compliment_photos: long (nullable = true)\n",
      " |-- compliment_plain: long (nullable = true)\n",
      " |-- compliment_profile: long (nullable = true)\n",
      " |-- compliment_writer: long (nullable = true)\n",
      " |-- cool: long (nullable = true)\n",
      " |-- elite: string (nullable = true)\n",
      " |-- fans: long (nullable = true)\n",
      " |-- friends: string (nullable = true)\n",
      " |-- funny: long (nullable = true)\n",
      " |-- name: string (nullable = true)\n",
      " |-- review_count: long (nullable = true)\n",
      " |-- useful: long (nullable = true)\n",
      " |-- user_id: string (nullable = true)\n",
      " |-- yelping_since: string (nullable = true)\n",
      "\n"
     ]
    }
   ],
   "source": [
    "path = \"yelp_dataset/user.json\"\n",
    "user_df = spark1.read.json(path)\n",
    "user_df.printSchema()\n",
    "user_df.createOrReplaceTempView(\"user\")\n"
   ]
  },
  {
   "cell_type": "code",
   "execution_count": 5,
   "metadata": {},
   "outputs": [
    {
     "name": "stdout",
     "output_type": "stream",
     "text": [
      "root\n",
      " |-- address: string (nullable = true)\n",
      " |-- attributes: struct (nullable = true)\n",
      " |    |-- AcceptsInsurance: string (nullable = true)\n",
      " |    |-- AgesAllowed: string (nullable = true)\n",
      " |    |-- Alcohol: string (nullable = true)\n",
      " |    |-- Ambience: string (nullable = true)\n",
      " |    |-- BYOB: string (nullable = true)\n",
      " |    |-- BYOBCorkage: string (nullable = true)\n",
      " |    |-- BestNights: string (nullable = true)\n",
      " |    |-- BikeParking: string (nullable = true)\n",
      " |    |-- BusinessAcceptsBitcoin: string (nullable = true)\n",
      " |    |-- BusinessAcceptsCreditCards: string (nullable = true)\n",
      " |    |-- BusinessParking: string (nullable = true)\n",
      " |    |-- ByAppointmentOnly: string (nullable = true)\n",
      " |    |-- Caters: string (nullable = true)\n",
      " |    |-- CoatCheck: string (nullable = true)\n",
      " |    |-- Corkage: string (nullable = true)\n",
      " |    |-- DietaryRestrictions: string (nullable = true)\n",
      " |    |-- DogsAllowed: string (nullable = true)\n",
      " |    |-- DriveThru: string (nullable = true)\n",
      " |    |-- GoodForDancing: string (nullable = true)\n",
      " |    |-- GoodForKids: string (nullable = true)\n",
      " |    |-- GoodForMeal: string (nullable = true)\n",
      " |    |-- HairSpecializesIn: string (nullable = true)\n",
      " |    |-- HappyHour: string (nullable = true)\n",
      " |    |-- HasTV: string (nullable = true)\n",
      " |    |-- Music: string (nullable = true)\n",
      " |    |-- NoiseLevel: string (nullable = true)\n",
      " |    |-- Open24Hours: string (nullable = true)\n",
      " |    |-- OutdoorSeating: string (nullable = true)\n",
      " |    |-- RestaurantsAttire: string (nullable = true)\n",
      " |    |-- RestaurantsCounterService: string (nullable = true)\n",
      " |    |-- RestaurantsDelivery: string (nullable = true)\n",
      " |    |-- RestaurantsGoodForGroups: string (nullable = true)\n",
      " |    |-- RestaurantsPriceRange2: string (nullable = true)\n",
      " |    |-- RestaurantsReservations: string (nullable = true)\n",
      " |    |-- RestaurantsTableService: string (nullable = true)\n",
      " |    |-- RestaurantsTakeOut: string (nullable = true)\n",
      " |    |-- Smoking: string (nullable = true)\n",
      " |    |-- WheelchairAccessible: string (nullable = true)\n",
      " |    |-- WiFi: string (nullable = true)\n",
      " |-- business_id: string (nullable = true)\n",
      " |-- categories: string (nullable = true)\n",
      " |-- city: string (nullable = true)\n",
      " |-- hours: struct (nullable = true)\n",
      " |    |-- Friday: string (nullable = true)\n",
      " |    |-- Monday: string (nullable = true)\n",
      " |    |-- Saturday: string (nullable = true)\n",
      " |    |-- Sunday: string (nullable = true)\n",
      " |    |-- Thursday: string (nullable = true)\n",
      " |    |-- Tuesday: string (nullable = true)\n",
      " |    |-- Wednesday: string (nullable = true)\n",
      " |-- is_open: long (nullable = true)\n",
      " |-- latitude: double (nullable = true)\n",
      " |-- longitude: double (nullable = true)\n",
      " |-- name: string (nullable = true)\n",
      " |-- postal_code: string (nullable = true)\n",
      " |-- review_count: long (nullable = true)\n",
      " |-- stars: double (nullable = true)\n",
      " |-- state: string (nullable = true)\n",
      "\n"
     ]
    }
   ],
   "source": [
    "path = \"yelp_dataset/business.json\"\n",
    "business_df = spark1.read.json(path)\n",
    "business_df.printSchema()\n",
    "business_df.createOrReplaceTempView(\"business\")"
   ]
  },
  {
   "cell_type": "code",
   "execution_count": 6,
   "metadata": {},
   "outputs": [
    {
     "name": "stdout",
     "output_type": "stream",
     "text": [
      "root\n",
      " |-- business_id: string (nullable = true)\n",
      " |-- cool: long (nullable = true)\n",
      " |-- date: string (nullable = true)\n",
      " |-- funny: long (nullable = true)\n",
      " |-- review_id: string (nullable = true)\n",
      " |-- stars: double (nullable = true)\n",
      " |-- text: string (nullable = true)\n",
      " |-- useful: long (nullable = true)\n",
      " |-- user_id: string (nullable = true)\n",
      "\n"
     ]
    }
   ],
   "source": [
    "path = \"yelp_dataset/review.json\"\n",
    "review_df = spark1.read.json(path)\n",
    "review_df.printSchema()\n",
    "review_df.createOrReplaceTempView(\"review\")"
   ]
  },
  {
   "cell_type": "code",
   "execution_count": 17,
   "metadata": {},
   "outputs": [],
   "source": [
    "phoenix_1_stars = spark1.sql(\"SELECT business.business_id, categories, text FROM business JOIN review ON business.business_id=review.business_id WHERE city = 'Phoenix' and review.stars = 1\").toPandas()\n",
    "# phoenix_2_stars = spark1.sql(\"SELECT business.business_id, categories, text FROM business JOIN review ON business.business_id=review.business_id WHERE city = 'Phoenix' and business.stars = 2\").toPandas()\n",
    "# phoenix_3_stars = spark1.sql(\"SELECT business.business_id, categories, text FROM business JOIN review ON business.business_id=review.business_id WHERE city = 'Phoenix' and business.stars = 3\").toPandas()\n",
    "# phoenix_4_stars = spark1.sql(\"SELECT business.business_id, categories, text FROM business JOIN review ON business.business_id=review.business_id WHERE city = 'Phoenix' and business.stars = 4\").toPandas()\n",
    "# phoenix_5_stars = spark1.sql(\"SELECT business.business_id, categories, text FROM business JOIN review ON business.business_id=review.business_id WHERE city = 'Phoenix' and business.stars = 5\").toPandas()\n",
    "\n",
    "\n"
   ]
  },
  {
   "cell_type": "code",
   "execution_count": 18,
   "metadata": {},
   "outputs": [
    {
     "data": {
      "text/html": [
       "<div>\n",
       "<style scoped>\n",
       "    .dataframe tbody tr th:only-of-type {\n",
       "        vertical-align: middle;\n",
       "    }\n",
       "\n",
       "    .dataframe tbody tr th {\n",
       "        vertical-align: top;\n",
       "    }\n",
       "\n",
       "    .dataframe thead th {\n",
       "        text-align: right;\n",
       "    }\n",
       "</style>\n",
       "<table border=\"1\" class=\"dataframe\">\n",
       "  <thead>\n",
       "    <tr style=\"text-align: right;\">\n",
       "      <th></th>\n",
       "      <th>business_id</th>\n",
       "      <th>categories</th>\n",
       "      <th>text</th>\n",
       "    </tr>\n",
       "  </thead>\n",
       "  <tbody>\n",
       "    <tr>\n",
       "      <th>0</th>\n",
       "      <td>XTzKRvWciP_BZ9imk8mmPQ</td>\n",
       "      <td>Beauty &amp; Spas, Nail Salons</td>\n",
       "      <td>I tried this place because my girls are away f...</td>\n",
       "    </tr>\n",
       "    <tr>\n",
       "      <th>1</th>\n",
       "      <td>9MbGG8PxrlpBWVm3QyWy_g</td>\n",
       "      <td>Health &amp; Medical, Cosmetic Surgeons, Doctors</td>\n",
       "      <td>I am years out from surgery with sacs and I wi...</td>\n",
       "    </tr>\n",
       "    <tr>\n",
       "      <th>2</th>\n",
       "      <td>PZMpjUQ9_JVCf4Htu6vZYg</td>\n",
       "      <td>Hobby Shops, Appliances, Home &amp; Garden, Home D...</td>\n",
       "      <td>((( LADIES BEWARE))) Don't ever take your mach...</td>\n",
       "    </tr>\n",
       "    <tr>\n",
       "      <th>3</th>\n",
       "      <td>KjicU7uxRt2KDEnO5cgxDQ</td>\n",
       "      <td>Shopping, Floral Designers, Event Planning &amp; S...</td>\n",
       "      <td>This company tried deliver flowers to our home...</td>\n",
       "    </tr>\n",
       "    <tr>\n",
       "      <th>4</th>\n",
       "      <td>Sxe7h922Dqv9HzfTH-8O7w</td>\n",
       "      <td>Event Planning &amp; Services, Hotels &amp; Travel, Ho...</td>\n",
       "      <td>One of the crappier Marriotts I've ever stayed...</td>\n",
       "    </tr>\n",
       "    <tr>\n",
       "      <th>5</th>\n",
       "      <td>PycR_Mr5jA9jB4Xg3nX0Yw</td>\n",
       "      <td>Hotels &amp; Travel, Car Rental</td>\n",
       "      <td>They charged me twice what I expected to pay. ...</td>\n",
       "    </tr>\n",
       "    <tr>\n",
       "      <th>6</th>\n",
       "      <td>zk3AimWhuz0EZsNgIddKdg</td>\n",
       "      <td>Food, Coffee &amp; Tea, Juice Bars &amp; Smoothies, Ba...</td>\n",
       "      <td>Awful place. Staff is not nice, very rude.  Th...</td>\n",
       "    </tr>\n",
       "    <tr>\n",
       "      <th>7</th>\n",
       "      <td>qaPSbg690KaX5av6xsSV4Q</td>\n",
       "      <td>Coffee &amp; Tea, Cafes, Food, Tea Rooms, Restaura...</td>\n",
       "      <td>I have no idea what the owner's problem is, bu...</td>\n",
       "    </tr>\n",
       "    <tr>\n",
       "      <th>8</th>\n",
       "      <td>SZQINqa278e7DEM_B3WK8A</td>\n",
       "      <td>Guns &amp; Ammo, Gold Buyers, Building Supplies, P...</td>\n",
       "      <td>My experience went from bad to worse.  This pl...</td>\n",
       "    </tr>\n",
       "    <tr>\n",
       "      <th>9</th>\n",
       "      <td>EtLM-iRYp3UGOEz4_b0I2Q</td>\n",
       "      <td>Hotels &amp; Travel, Car Rental</td>\n",
       "      <td>What a mess. Been in line over an hour and the...</td>\n",
       "    </tr>\n",
       "  </tbody>\n",
       "</table>\n",
       "</div>"
      ],
      "text/plain": [
       "              business_id                                         categories  \\\n",
       "0  XTzKRvWciP_BZ9imk8mmPQ                         Beauty & Spas, Nail Salons   \n",
       "1  9MbGG8PxrlpBWVm3QyWy_g       Health & Medical, Cosmetic Surgeons, Doctors   \n",
       "2  PZMpjUQ9_JVCf4Htu6vZYg  Hobby Shops, Appliances, Home & Garden, Home D...   \n",
       "3  KjicU7uxRt2KDEnO5cgxDQ  Shopping, Floral Designers, Event Planning & S...   \n",
       "4  Sxe7h922Dqv9HzfTH-8O7w  Event Planning & Services, Hotels & Travel, Ho...   \n",
       "5  PycR_Mr5jA9jB4Xg3nX0Yw                        Hotels & Travel, Car Rental   \n",
       "6  zk3AimWhuz0EZsNgIddKdg  Food, Coffee & Tea, Juice Bars & Smoothies, Ba...   \n",
       "7  qaPSbg690KaX5av6xsSV4Q  Coffee & Tea, Cafes, Food, Tea Rooms, Restaura...   \n",
       "8  SZQINqa278e7DEM_B3WK8A  Guns & Ammo, Gold Buyers, Building Supplies, P...   \n",
       "9  EtLM-iRYp3UGOEz4_b0I2Q                        Hotels & Travel, Car Rental   \n",
       "\n",
       "                                                text  \n",
       "0  I tried this place because my girls are away f...  \n",
       "1  I am years out from surgery with sacs and I wi...  \n",
       "2  ((( LADIES BEWARE))) Don't ever take your mach...  \n",
       "3  This company tried deliver flowers to our home...  \n",
       "4  One of the crappier Marriotts I've ever stayed...  \n",
       "5  They charged me twice what I expected to pay. ...  \n",
       "6  Awful place. Staff is not nice, very rude.  Th...  \n",
       "7  I have no idea what the owner's problem is, bu...  \n",
       "8  My experience went from bad to worse.  This pl...  \n",
       "9  What a mess. Been in line over an hour and the...  "
      ]
     },
     "execution_count": 18,
     "metadata": {},
     "output_type": "execute_result"
    }
   ],
   "source": [
    "phoenix_1_stars.head(10)"
   ]
  },
  {
   "cell_type": "code",
   "execution_count": 19,
   "metadata": {},
   "outputs": [
    {
     "data": {
      "text/plain": [
       "118901"
      ]
     },
     "execution_count": 19,
     "metadata": {},
     "output_type": "execute_result"
    }
   ],
   "source": [
    "phoenix_1_stars.shape[0]\n"
   ]
  },
  {
   "cell_type": "code",
   "execution_count": 21,
   "metadata": {},
   "outputs": [
    {
     "data": {
      "text/html": [
       "<div>\n",
       "<style scoped>\n",
       "    .dataframe tbody tr th:only-of-type {\n",
       "        vertical-align: middle;\n",
       "    }\n",
       "\n",
       "    .dataframe tbody tr th {\n",
       "        vertical-align: top;\n",
       "    }\n",
       "\n",
       "    .dataframe thead th {\n",
       "        text-align: right;\n",
       "    }\n",
       "</style>\n",
       "<table border=\"1\" class=\"dataframe\">\n",
       "  <thead>\n",
       "    <tr style=\"text-align: right;\">\n",
       "      <th></th>\n",
       "      <th>business_id</th>\n",
       "      <th>categories</th>\n",
       "      <th>text</th>\n",
       "    </tr>\n",
       "  </thead>\n",
       "  <tbody>\n",
       "    <tr>\n",
       "      <th>0</th>\n",
       "      <td>XTzKRvWciP_BZ9imk8mmPQ</td>\n",
       "      <td>Beauty &amp; Spas, Nail Salons</td>\n",
       "      <td>i tried this place because my girls are away f...</td>\n",
       "    </tr>\n",
       "    <tr>\n",
       "      <th>1</th>\n",
       "      <td>9MbGG8PxrlpBWVm3QyWy_g</td>\n",
       "      <td>Health &amp; Medical, Cosmetic Surgeons, Doctors</td>\n",
       "      <td>i am years out from surgery with sacs and i wi...</td>\n",
       "    </tr>\n",
       "    <tr>\n",
       "      <th>2</th>\n",
       "      <td>PZMpjUQ9_JVCf4Htu6vZYg</td>\n",
       "      <td>Hobby Shops, Appliances, Home &amp; Garden, Home D...</td>\n",
       "      <td>((( ladies beware))) don't ever take your mach...</td>\n",
       "    </tr>\n",
       "    <tr>\n",
       "      <th>3</th>\n",
       "      <td>KjicU7uxRt2KDEnO5cgxDQ</td>\n",
       "      <td>Shopping, Floral Designers, Event Planning &amp; S...</td>\n",
       "      <td>this company tried deliver flowers to our home...</td>\n",
       "    </tr>\n",
       "    <tr>\n",
       "      <th>4</th>\n",
       "      <td>Sxe7h922Dqv9HzfTH-8O7w</td>\n",
       "      <td>Event Planning &amp; Services, Hotels &amp; Travel, Ho...</td>\n",
       "      <td>one of the crappier marriotts i've ever stayed...</td>\n",
       "    </tr>\n",
       "  </tbody>\n",
       "</table>\n",
       "</div>"
      ],
      "text/plain": [
       "              business_id                                         categories  \\\n",
       "0  XTzKRvWciP_BZ9imk8mmPQ                         Beauty & Spas, Nail Salons   \n",
       "1  9MbGG8PxrlpBWVm3QyWy_g       Health & Medical, Cosmetic Surgeons, Doctors   \n",
       "2  PZMpjUQ9_JVCf4Htu6vZYg  Hobby Shops, Appliances, Home & Garden, Home D...   \n",
       "3  KjicU7uxRt2KDEnO5cgxDQ  Shopping, Floral Designers, Event Planning & S...   \n",
       "4  Sxe7h922Dqv9HzfTH-8O7w  Event Planning & Services, Hotels & Travel, Ho...   \n",
       "\n",
       "                                                text  \n",
       "0  i tried this place because my girls are away f...  \n",
       "1  i am years out from surgery with sacs and i wi...  \n",
       "2  ((( ladies beware))) don't ever take your mach...  \n",
       "3  this company tried deliver flowers to our home...  \n",
       "4  one of the crappier marriotts i've ever stayed...  "
      ]
     },
     "execution_count": 21,
     "metadata": {},
     "output_type": "execute_result"
    }
   ],
   "source": [
    "#lower-casing review text\n",
    "phoenix_1_stars['text'] = phoenix_1_stars['text'].apply(lambda x: x.lower())\n",
    "phoenix_1_stars.head()"
   ]
  },
  {
   "cell_type": "code",
   "execution_count": 25,
   "metadata": {},
   "outputs": [
    {
     "data": {
      "text/plain": [
       "['Hello', 'this', 'is', 'a', 'test']"
      ]
     },
     "execution_count": 25,
     "metadata": {},
     "output_type": "execute_result"
    }
   ],
   "source": [
    "def remove_punc(str):\n",
    "    table = str.maketrans('', '', string.punctuation)\n",
    "    words=str.split()\n",
    "    stripped = [w.translate(table) for w in words]\n",
    "    return stripped\n",
    "remove_punc(\"Hello, this. is a test\")"
   ]
  },
  {
   "cell_type": "code",
   "execution_count": 29,
   "metadata": {},
   "outputs": [],
   "source": [
    "#Removing punctuation\n",
    "phoenix_1_stars['text'] = phoenix_1_stars['text'].apply(lambda x: remove_punc(x))\n"
   ]
  },
  {
   "cell_type": "code",
   "execution_count": 30,
   "metadata": {},
   "outputs": [
    {
     "data": {
      "text/html": [
       "<div>\n",
       "<style scoped>\n",
       "    .dataframe tbody tr th:only-of-type {\n",
       "        vertical-align: middle;\n",
       "    }\n",
       "\n",
       "    .dataframe tbody tr th {\n",
       "        vertical-align: top;\n",
       "    }\n",
       "\n",
       "    .dataframe thead th {\n",
       "        text-align: right;\n",
       "    }\n",
       "</style>\n",
       "<table border=\"1\" class=\"dataframe\">\n",
       "  <thead>\n",
       "    <tr style=\"text-align: right;\">\n",
       "      <th></th>\n",
       "      <th>business_id</th>\n",
       "      <th>categories</th>\n",
       "      <th>text</th>\n",
       "    </tr>\n",
       "  </thead>\n",
       "  <tbody>\n",
       "    <tr>\n",
       "      <th>0</th>\n",
       "      <td>XTzKRvWciP_BZ9imk8mmPQ</td>\n",
       "      <td>Beauty &amp; Spas, Nail Salons</td>\n",
       "      <td>[i, tried, this, place, because, my, girls, ar...</td>\n",
       "    </tr>\n",
       "    <tr>\n",
       "      <th>1</th>\n",
       "      <td>9MbGG8PxrlpBWVm3QyWy_g</td>\n",
       "      <td>Health &amp; Medical, Cosmetic Surgeons, Doctors</td>\n",
       "      <td>[i, am, years, out, from, surgery, with, sacs,...</td>\n",
       "    </tr>\n",
       "    <tr>\n",
       "      <th>2</th>\n",
       "      <td>PZMpjUQ9_JVCf4Htu6vZYg</td>\n",
       "      <td>Hobby Shops, Appliances, Home &amp; Garden, Home D...</td>\n",
       "      <td>[, ladies, beware, dont, ever, take, your, mac...</td>\n",
       "    </tr>\n",
       "  </tbody>\n",
       "</table>\n",
       "</div>"
      ],
      "text/plain": [
       "              business_id                                         categories  \\\n",
       "0  XTzKRvWciP_BZ9imk8mmPQ                         Beauty & Spas, Nail Salons   \n",
       "1  9MbGG8PxrlpBWVm3QyWy_g       Health & Medical, Cosmetic Surgeons, Doctors   \n",
       "2  PZMpjUQ9_JVCf4Htu6vZYg  Hobby Shops, Appliances, Home & Garden, Home D...   \n",
       "\n",
       "                                                text  \n",
       "0  [i, tried, this, place, because, my, girls, ar...  \n",
       "1  [i, am, years, out, from, surgery, with, sacs,...  \n",
       "2  [, ladies, beware, dont, ever, take, your, mac...  "
      ]
     },
     "execution_count": 30,
     "metadata": {},
     "output_type": "execute_result"
    }
   ],
   "source": [
    "phoenix_1_stars.head(3)"
   ]
  },
  {
   "cell_type": "code",
   "execution_count": 51,
   "metadata": {},
   "outputs": [
    {
     "name": "stdout",
     "output_type": "stream",
     "text": [
      "[nltk_data] Downloading package stopwords to\n",
      "[nltk_data]     /Users/maxreynolds/nltk_data...\n",
      "[nltk_data]   Package stopwords is already up-to-date!\n"
     ]
    },
    {
     "data": {
      "text/plain": [
       "0    tried place girls away month really wanted try...\n",
       "1    years surgery sacs wish could turn back time p...\n",
       "2     ladies beware dont ever take machine 35th ave...\n",
       "3    company tried deliver flowers home son home ca...\n",
       "4    one crappier marriotts ive ever stayed staff n...\n",
       "Name: text, dtype: object"
      ]
     },
     "execution_count": 51,
     "metadata": {},
     "output_type": "execute_result"
    }
   ],
   "source": [
    "#Removing stop words\n",
    "nltk.download('stopwords')\n",
    "stop = stopwords.words('english')\n",
    "\n",
    "def rem_stop_words(txt):\n",
    "    return ' '.join([word for word in txt if word not in stop])\n",
    "\n",
    "\n",
    "phoenix_1_stars['text'] = phoenix_1_stars['text'].apply(lambda x: rem_stop_words(x))\n",
    "phoenix_1_stars['text'].head()"
   ]
  },
  {
   "cell_type": "code",
   "execution_count": 52,
   "metadata": {},
   "outputs": [
    {
     "data": {
      "text/plain": [
       "'tried place girls away month really wanted try wait came back nobody hold candle toes desperate went almost twice usually pay begin starting pedicure specifically told already gel polish toes didnt tell right extra 5 waited time pay charged charged kinds extra fees didnt even ask also informed girl toenail loose needed gluing looking phone sudden felt sensation ripped toenail without even asking another girl come put acrylic since nail underneath 12 grown didnt tell much would even ask permission charged end added stone massage barely massage rubbed stones lower legs couple times lasted 30 seconds asked design im used getting board bunch designs choose didnt even ask wanted painted lines two toes charge 5 dollars ugh dont care ugly toes look next time never go anywhere else besides bella nails rock place appalling didnt want make scene paid money never go back'"
      ]
     },
     "execution_count": 52,
     "metadata": {},
     "output_type": "execute_result"
    }
   ],
   "source": [
    "phoenix_1_stars['text'][0]"
   ]
  },
  {
   "cell_type": "code",
   "execution_count": 66,
   "metadata": {},
   "outputs": [],
   "source": [
    "#Word Frequency\n",
    "freq = pd.Series(' '.join(phoenix_1_stars['text']).split()).value_counts().sort_values(ascending=False)"
   ]
  },
  {
   "cell_type": "code",
   "execution_count": 78,
   "metadata": {},
   "outputs": [
    {
     "name": "stdout",
     "output_type": "stream",
     "text": [
      "('would', 69778)\n",
      "('get', 63235)\n",
      "('back', 58273)\n",
      "('time', 56375)\n",
      "('service', 55810)\n",
      "('one', 55526)\n",
      "('place', 49210)\n",
      "('said', 46835)\n",
      "('told', 46670)\n",
      "('like', 46281)\n",
      "('never', 45995)\n",
      "('food', 44412)\n",
      "('even', 41514)\n",
      "('dont', 41072)\n",
      "('go', 40768)\n",
      "('us', 39190)\n",
      "('didnt', 34737)\n",
      "('could', 33042)\n",
      "('got', 33011)\n",
      "('asked', 31190)\n",
      "('car', 30846)\n",
      "('called', 29499)\n",
      "('went', 29019)\n",
      "('good', 28240)\n",
      "('order', 28037)\n",
      "('customer', 27865)\n",
      "('minutes', 26720)\n",
      "('people', 26526)\n",
      "('call', 26248)\n",
      "('im', 25528)\n",
      "('going', 24925)\n",
      "('know', 24864)\n",
      "('came', 24804)\n",
      "('another', 23994)\n",
      "('first', 23769)\n",
      "('day', 22642)\n",
      "('ever', 22472)\n",
      "('take', 21877)\n",
      "('manager', 21826)\n",
      "('company', 21758)\n",
      "('still', 21321)\n",
      "('give', 21000)\n",
      "('come', 20817)\n",
      "('took', 20577)\n",
      "('2', 20480)\n",
      "('make', 20326)\n",
      "('really', 19929)\n",
      "('way', 19898)\n",
      "('work', 19864)\n",
      "('two', 19591)\n",
      "('bad', 19307)\n",
      "('also', 19304)\n",
      "('new', 19020)\n",
      "('experience', 18969)\n",
      "('money', 18874)\n",
      "('ordered', 18836)\n",
      "('well', 18642)\n",
      "('business', 18537)\n",
      "('want', 18431)\n",
      "('left', 18260)\n",
      "('say', 16944)\n",
      "('see', 16698)\n",
      "('ive', 16624)\n",
      "('phone', 16593)\n",
      "('worst', 16202)\n",
      "('made', 16159)\n",
      "('times', 15683)\n",
      "('rude', 15657)\n",
      "('3', 15589)\n",
      "('wanted', 15416)\n",
      "('right', 15303)\n",
      "('wait', 15104)\n",
      "('since', 14992)\n",
      "('last', 14944)\n",
      "('pay', 14865)\n",
      "('much', 14814)\n",
      "('staff', 14716)\n",
      "('home', 14601)\n",
      "('location', 14295)\n",
      "('around', 14275)\n",
      "('next', 14217)\n",
      "('better', 14106)\n",
      "('later', 14037)\n",
      "('horrible', 13974)\n",
      "('away', 13893)\n",
      "('nothing', 13728)\n",
      "('done', 13691)\n",
      "('wasnt', 13458)\n",
      "('someone', 13180)\n",
      "('tell', 13019)\n",
      "('put', 12900)\n",
      "('great', 12830)\n",
      "('need', 12825)\n",
      "('care', 12715)\n",
      "('store', 12711)\n",
      "('hour', 12566)\n",
      "('finally', 12284)\n",
      "('anything', 12157)\n",
      "('sure', 12157)\n",
      "('find', 12140)\n"
     ]
    }
   ],
   "source": [
    "for x in freq[:100].iteritems():\n",
    "    print(x)"
   ]
  },
  {
   "cell_type": "code",
   "execution_count": null,
   "metadata": {},
   "outputs": [],
   "source": []
  }
 ],
 "metadata": {
  "kernelspec": {
   "display_name": "Python 3",
   "language": "python",
   "name": "python3"
  },
  "language_info": {
   "codemirror_mode": {
    "name": "ipython",
    "version": 3
   },
   "file_extension": ".py",
   "mimetype": "text/x-python",
   "name": "python",
   "nbconvert_exporter": "python",
   "pygments_lexer": "ipython3",
   "version": "3.6.5"
  }
 },
 "nbformat": 4,
 "nbformat_minor": 2
}
