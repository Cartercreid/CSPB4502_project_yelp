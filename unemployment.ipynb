{
 "cells": [
  {
   "cell_type": "code",
   "execution_count": 1,
   "metadata": {},
   "outputs": [],
   "source": [
    "import pyspark as ps\n",
    "from pyspark.sql import SparkSession"
   ]
  },
  {
   "cell_type": "code",
   "execution_count": 2,
   "metadata": {},
   "outputs": [],
   "source": [
    "spark1 = SparkSession.builder.appName('Ops').getOrCreate()"
   ]
  },
  {
   "cell_type": "code",
   "execution_count": 3,
   "metadata": {},
   "outputs": [],
   "source": [
    "path = \"yelp_dataset/user.json\"\n",
    "user_df = spark1.read.json(path)"
   ]
  },
  {
   "cell_type": "code",
   "execution_count": 4,
   "metadata": {},
   "outputs": [
    {
     "name": "stdout",
     "output_type": "stream",
     "text": [
      "root\n",
      " |-- average_stars: double (nullable = true)\n",
      " |-- compliment_cool: long (nullable = true)\n",
      " |-- compliment_cute: long (nullable = true)\n",
      " |-- compliment_funny: long (nullable = true)\n",
      " |-- compliment_hot: long (nullable = true)\n",
      " |-- compliment_list: long (nullable = true)\n",
      " |-- compliment_more: long (nullable = true)\n",
      " |-- compliment_note: long (nullable = true)\n",
      " |-- compliment_photos: long (nullable = true)\n",
      " |-- compliment_plain: long (nullable = true)\n",
      " |-- compliment_profile: long (nullable = true)\n",
      " |-- compliment_writer: long (nullable = true)\n",
      " |-- cool: long (nullable = true)\n",
      " |-- elite: string (nullable = true)\n",
      " |-- fans: long (nullable = true)\n",
      " |-- friends: string (nullable = true)\n",
      " |-- funny: long (nullable = true)\n",
      " |-- name: string (nullable = true)\n",
      " |-- review_count: long (nullable = true)\n",
      " |-- useful: long (nullable = true)\n",
      " |-- user_id: string (nullable = true)\n",
      " |-- yelping_since: string (nullable = true)\n",
      "\n"
     ]
    }
   ],
   "source": [
    "user_df.printSchema()\n",
    "user_df.createOrReplaceTempView(\"user\")"
   ]
  },
  {
   "cell_type": "code",
   "execution_count": 5,
   "metadata": {},
   "outputs": [],
   "source": [
    "#business_df.createOrReplaceTempView(\"business\")"
   ]
  },
  {
   "cell_type": "code",
   "execution_count": null,
   "metadata": {},
   "outputs": [],
   "source": []
  },
  {
   "cell_type": "code",
   "execution_count": 6,
   "metadata": {},
   "outputs": [],
   "source": [
    "sample_user_query = spark1.sql(\"SELECT * from user LIMIT 1\")"
   ]
  },
  {
   "cell_type": "code",
   "execution_count": 7,
   "metadata": {},
   "outputs": [
    {
     "name": "stdout",
     "output_type": "stream",
     "text": [
      "+-------------+---------------+---------------+----------------+--------------+---------------+---------------+---------------+-----------------+----------------+------------------+-----------------+----+--------------+----+--------------------+-----+------+------------+------+--------------------+-------------------+\n",
      "|average_stars|compliment_cool|compliment_cute|compliment_funny|compliment_hot|compliment_list|compliment_more|compliment_note|compliment_photos|compliment_plain|compliment_profile|compliment_writer|cool|         elite|fans|             friends|funny|  name|review_count|useful|             user_id|      yelping_since|\n",
      "+-------------+---------------+---------------+----------------+--------------+---------------+---------------+---------------+-----------------+----------------+------------------+-----------------+----+--------------+----+--------------------+-----+------+------------+------+--------------------+-------------------+\n",
      "|         4.03|              1|              0|               1|             2|              0|              0|              1|                0|               1|                 0|                2|  25|2015,2016,2017|   5|c78V-rj8NQcQjOI8K...|   17|Rashmi|          95|    84|l6BmjZMeQD3rDxWUb...|2013-10-08 23:11:33|\n",
      "+-------------+---------------+---------------+----------------+--------------+---------------+---------------+---------------+-----------------+----------------+------------------+-----------------+----+--------------+----+--------------------+-----+------+------------+------+--------------------+-------------------+\n",
      "\n"
     ]
    }
   ],
   "source": [
    "sample_user_query.show()"
   ]
  },
  {
   "cell_type": "code",
   "execution_count": 8,
   "metadata": {},
   "outputs": [
    {
     "name": "stdout",
     "output_type": "stream",
     "text": [
      "root\n",
      " |-- address: string (nullable = true)\n",
      " |-- attributes: struct (nullable = true)\n",
      " |    |-- AcceptsInsurance: string (nullable = true)\n",
      " |    |-- AgesAllowed: string (nullable = true)\n",
      " |    |-- Alcohol: string (nullable = true)\n",
      " |    |-- Ambience: string (nullable = true)\n",
      " |    |-- BYOB: string (nullable = true)\n",
      " |    |-- BYOBCorkage: string (nullable = true)\n",
      " |    |-- BestNights: string (nullable = true)\n",
      " |    |-- BikeParking: string (nullable = true)\n",
      " |    |-- BusinessAcceptsBitcoin: string (nullable = true)\n",
      " |    |-- BusinessAcceptsCreditCards: string (nullable = true)\n",
      " |    |-- BusinessParking: string (nullable = true)\n",
      " |    |-- ByAppointmentOnly: string (nullable = true)\n",
      " |    |-- Caters: string (nullable = true)\n",
      " |    |-- CoatCheck: string (nullable = true)\n",
      " |    |-- Corkage: string (nullable = true)\n",
      " |    |-- DietaryRestrictions: string (nullable = true)\n",
      " |    |-- DogsAllowed: string (nullable = true)\n",
      " |    |-- DriveThru: string (nullable = true)\n",
      " |    |-- GoodForDancing: string (nullable = true)\n",
      " |    |-- GoodForKids: string (nullable = true)\n",
      " |    |-- GoodForMeal: string (nullable = true)\n",
      " |    |-- HairSpecializesIn: string (nullable = true)\n",
      " |    |-- HappyHour: string (nullable = true)\n",
      " |    |-- HasTV: string (nullable = true)\n",
      " |    |-- Music: string (nullable = true)\n",
      " |    |-- NoiseLevel: string (nullable = true)\n",
      " |    |-- Open24Hours: string (nullable = true)\n",
      " |    |-- OutdoorSeating: string (nullable = true)\n",
      " |    |-- RestaurantsAttire: string (nullable = true)\n",
      " |    |-- RestaurantsCounterService: string (nullable = true)\n",
      " |    |-- RestaurantsDelivery: string (nullable = true)\n",
      " |    |-- RestaurantsGoodForGroups: string (nullable = true)\n",
      " |    |-- RestaurantsPriceRange2: string (nullable = true)\n",
      " |    |-- RestaurantsReservations: string (nullable = true)\n",
      " |    |-- RestaurantsTableService: string (nullable = true)\n",
      " |    |-- RestaurantsTakeOut: string (nullable = true)\n",
      " |    |-- Smoking: string (nullable = true)\n",
      " |    |-- WheelchairAccessible: string (nullable = true)\n",
      " |    |-- WiFi: string (nullable = true)\n",
      " |-- business_id: string (nullable = true)\n",
      " |-- categories: string (nullable = true)\n",
      " |-- city: string (nullable = true)\n",
      " |-- hours: struct (nullable = true)\n",
      " |    |-- Friday: string (nullable = true)\n",
      " |    |-- Monday: string (nullable = true)\n",
      " |    |-- Saturday: string (nullable = true)\n",
      " |    |-- Sunday: string (nullable = true)\n",
      " |    |-- Thursday: string (nullable = true)\n",
      " |    |-- Tuesday: string (nullable = true)\n",
      " |    |-- Wednesday: string (nullable = true)\n",
      " |-- is_open: long (nullable = true)\n",
      " |-- latitude: double (nullable = true)\n",
      " |-- longitude: double (nullable = true)\n",
      " |-- name: string (nullable = true)\n",
      " |-- postal_code: string (nullable = true)\n",
      " |-- review_count: long (nullable = true)\n",
      " |-- stars: double (nullable = true)\n",
      " |-- state: string (nullable = true)\n",
      "\n"
     ]
    }
   ],
   "source": [
    "#states_breakdown_df = spark1.sql(\"SELECT state, count(*) from business group by state\")\n",
    "path = \"yelp_dataset/business.json\"\n",
    "business_df = spark1.read.json(path)\n",
    "business_df.printSchema()\n"
   ]
  },
  {
   "cell_type": "code",
   "execution_count": 9,
   "metadata": {},
   "outputs": [],
   "source": [
    "business_df.createOrReplaceTempView(\"business\")"
   ]
  },
  {
   "cell_type": "code",
   "execution_count": 10,
   "metadata": {},
   "outputs": [],
   "source": [
    "sample_business_query = spark1.sql(\"SELECT city, state, COUNT(*) c from business GROUP BY city, state ORDER BY c DESC\")\n",
    "\n"
   ]
  },
  {
   "cell_type": "code",
   "execution_count": 11,
   "metadata": {},
   "outputs": [
    {
     "name": "stdout",
     "output_type": "stream",
     "text": [
      "+---------------+-----+-----+\n",
      "|           city|state|    c|\n",
      "+---------------+-----+-----+\n",
      "|      Las Vegas|   NV|29361|\n",
      "|        Toronto|   ON|18904|\n",
      "|        Phoenix|   AZ|18764|\n",
      "|      Charlotte|   NC| 9507|\n",
      "|     Scottsdale|   AZ| 8837|\n",
      "|        Calgary|   AB| 7735|\n",
      "|     Pittsburgh|   PA| 7016|\n",
      "|       Montréal|   QC| 6449|\n",
      "|           Mesa|   AZ| 6080|\n",
      "|      Henderson|   NV| 4892|\n",
      "|          Tempe|   AZ| 4550|\n",
      "|       Chandler|   AZ| 4307|\n",
      "|      Cleveland|   OH| 3605|\n",
      "|       Glendale|   AZ| 3542|\n",
      "|        Madison|   WI| 3493|\n",
      "|        Gilbert|   AZ| 3460|\n",
      "|    Mississauga|   ON| 3112|\n",
      "|         Peoria|   AZ| 1919|\n",
      "|        Markham|   ON| 1766|\n",
      "|North Las Vegas|   NV| 1547|\n",
      "+---------------+-----+-----+\n",
      "only showing top 20 rows\n",
      "\n"
     ]
    }
   ],
   "source": [
    "sample_business_query.show()"
   ]
  },
  {
   "cell_type": "code",
   "execution_count": 12,
   "metadata": {},
   "outputs": [
    {
     "name": "stdout",
     "output_type": "stream",
     "text": [
      "root\n",
      " |-- business_id: string (nullable = true)\n",
      " |-- cool: long (nullable = true)\n",
      " |-- date: string (nullable = true)\n",
      " |-- funny: long (nullable = true)\n",
      " |-- review_id: string (nullable = true)\n",
      " |-- stars: double (nullable = true)\n",
      " |-- text: string (nullable = true)\n",
      " |-- useful: long (nullable = true)\n",
      " |-- user_id: string (nullable = true)\n",
      "\n"
     ]
    }
   ],
   "source": [
    "path = \"yelp_dataset/review.json\"\n",
    "review_df = spark1.read.json(path)\n",
    "review_df.printSchema()"
   ]
  },
  {
   "cell_type": "code",
   "execution_count": 13,
   "metadata": {},
   "outputs": [],
   "source": [
    "review_df.createOrReplaceTempView(\"review\")"
   ]
  },
  {
   "cell_type": "code",
   "execution_count": null,
   "metadata": {},
   "outputs": [],
   "source": []
  },
  {
   "cell_type": "code",
   "execution_count": 14,
   "metadata": {},
   "outputs": [
    {
     "name": "stdout",
     "output_type": "stream",
     "text": [
      "+---------------+-----+-------+\n",
      "|           city|state|      c|\n",
      "+---------------+-----+-------+\n",
      "|      Las Vegas|   NV|2030062|\n",
      "|        Phoenix|   AZ| 734105|\n",
      "|        Toronto|   ON| 525422|\n",
      "|     Scottsdale|   AZ| 387550|\n",
      "|      Charlotte|   NC| 309406|\n",
      "|     Pittsburgh|   PA| 225489|\n",
      "|      Henderson|   NV| 219880|\n",
      "|          Tempe|   AZ| 202074|\n",
      "|           Mesa|   AZ| 168311|\n",
      "|       Chandler|   AZ| 157569|\n",
      "|       Montréal|   QC| 151238|\n",
      "|        Gilbert|   AZ| 129028|\n",
      "|      Cleveland|   OH| 114389|\n",
      "|        Madison|   WI| 104634|\n",
      "|       Glendale|   AZ| 100299|\n",
      "|        Calgary|   AB|  97647|\n",
      "|         Peoria|   AZ|  57857|\n",
      "|    Mississauga|   ON|  55585|\n",
      "|        Markham|   ON|  51296|\n",
      "|North Las Vegas|   NV|  50937|\n",
      "+---------------+-----+-------+\n",
      "only showing top 20 rows\n",
      "\n"
     ]
    }
   ],
   "source": [
    "review_counts = spark1.sql(\"SELECT city, state, COUNT(*) c from business JOIN review ON business.business_id=review.business_id GROUP BY city,state ORDER BY c DESC\")\n",
    "review_counts.show()\n",
    "\n",
    "\n"
   ]
  },
  {
   "cell_type": "code",
   "execution_count": 15,
   "metadata": {},
   "outputs": [
    {
     "name": "stdout",
     "output_type": "stream",
     "text": [
      "+-----+-------+------------------+\n",
      "|state|c      |s                 |\n",
      "+-----+-------+------------------+\n",
      "|NV   |2320491|3.755840466521956 |\n",
      "|AZ   |2082951|3.7554661631502615|\n",
      "|ON   |784461 |3.537222373068897 |\n",
      "|NC   |408060 |3.671072881439004 |\n",
      "|OH   |321345 |3.6708926543123432|\n",
      "|PA   |290097 |3.716132879691965 |\n",
      "|QC   |179039 |3.844201542680645 |\n",
      "|WI   |133660 |3.71846476133473  |\n",
      "|AB   |99639  |3.576802256144682 |\n",
      "|IL   |42371  |3.582804276509877 |\n",
      "|SC   |21272  |3.5886611508085746|\n",
      "|TX   |1071   |4.144724556489263 |\n",
      "|FL   |726    |1.5110192837465564|\n",
      "|NY   |283    |3.0636042402826855|\n",
      "|CA   |251    |3.9282868525896415|\n",
      "|WA   |19     |1.6842105263157894|\n",
      "|CT   |17     |3.4705882352941178|\n",
      "|VA   |16     |4.0               |\n",
      "|NM   |14     |2.7142857142857144|\n",
      "|GA   |14     |3.0               |\n",
      "|XGM  |14     |3.7142857142857144|\n",
      "|NE   |12     |2.5833333333333335|\n",
      "|AL   |12     |4.083333333333333 |\n",
      "|VT   |8      |4.5               |\n",
      "|XWY  |8      |4.5               |\n",
      "|NJ   |8      |4.875             |\n",
      "|AK   |7      |2.857142857142857 |\n",
      "|AR   |7      |2.0               |\n",
      "|UT   |4      |2.25              |\n",
      "|BAS  |4      |3.75              |\n",
      "|DOW  |4      |3.25              |\n",
      "|BC   |3      |1.3333333333333333|\n",
      "|TN   |3      |5.0               |\n",
      "|XGL  |3      |4.333333333333333 |\n",
      "|DUR  |3      |3.6666666666666665|\n",
      "|CON  |3      |3.6666666666666665|\n",
      "+-----+-------+------------------+\n",
      "\n"
     ]
    }
   ],
   "source": [
    "review_counts = spark1.sql(\"SELECT state, COUNT(*) c, AVG(review.stars) s from business JOIN review ON business.business_id=review.business_id GROUP BY state ORDER BY c DESC\")\n",
    "review_counts.show(100, False)\n"
   ]
  },
  {
   "cell_type": "code",
   "execution_count": 16,
   "metadata": {},
   "outputs": [
    {
     "name": "stdout",
     "output_type": "stream",
     "text": [
      "+--------+\n",
      "|count(1)|\n",
      "+--------+\n",
      "| 6685900|\n",
      "+--------+\n",
      "\n"
     ]
    }
   ],
   "source": [
    "review_counts = spark1.sql(\"SELECT COUNT(*) FROM review\")\n",
    "review_counts.show()"
   ]
  },
  {
   "cell_type": "code",
   "execution_count": 17,
   "metadata": {},
   "outputs": [
    {
     "name": "stdout",
     "output_type": "stream",
     "text": [
      "+--------+\n",
      "|count(1)|\n",
      "+--------+\n",
      "| 6685900|\n",
      "+--------+\n",
      "\n"
     ]
    }
   ],
   "source": [
    "review_counts = spark1.sql(\"SELECT COUNT(*) FROM business JOIN review ON business.business_id = review.business_id\")\n",
    "review_counts.show()\n",
    "\n"
   ]
  },
  {
   "cell_type": "code",
   "execution_count": 18,
   "metadata": {},
   "outputs": [
    {
     "name": "stdout",
     "output_type": "stream",
     "text": [
      "+--------+\n",
      "|count(1)|\n",
      "+--------+\n",
      "| 6685900|\n",
      "+--------+\n",
      "\n"
     ]
    }
   ],
   "source": [
    "review_counts = spark1.sql(\"SELECT COUNT(*) FROM business JOIN review ON business.business_id = review.business_id\")\n",
    "review_counts.show()\n",
    "\n"
   ]
  },
  {
   "cell_type": "code",
   "execution_count": 19,
   "metadata": {},
   "outputs": [],
   "source": [
    "dates = spark1.sql(\"SELECT COUNT(*) FROM review w\")\n"
   ]
  },
  {
   "cell_type": "code",
   "execution_count": 20,
   "metadata": {},
   "outputs": [
    {
     "name": "stdout",
     "output_type": "stream",
     "text": [
      "+----+--------+\n",
      "|y   |count(1)|\n",
      "+----+--------+\n",
      "|2004|13      |\n",
      "|2005|876     |\n",
      "|2006|5081    |\n",
      "|2007|21389   |\n",
      "|2008|57347   |\n",
      "|2009|101173  |\n",
      "|2010|187387  |\n",
      "|2011|302867  |\n",
      "|2012|367090  |\n",
      "|2013|491294  |\n",
      "|2014|704862  |\n",
      "|2015|952400  |\n",
      "|2016|1098786 |\n",
      "|2017|1217673 |\n",
      "|2018|1177662 |\n",
      "+----+--------+\n",
      "\n"
     ]
    }
   ],
   "source": [
    "datestest = spark1.sql(\"SELECT EXTRACT(YEAR FROM date) y, COUNT(*) FROM review GROUP BY y ORDER BY y\")\n",
    "datestest.show(50, False)"
   ]
  },
  {
   "cell_type": "code",
   "execution_count": 21,
   "metadata": {},
   "outputs": [
    {
     "name": "stdout",
     "output_type": "stream",
     "text": [
      "+----+---+--------+\n",
      "|y   |m  |count(1)|\n",
      "+----+---+--------+\n",
      "|2018|11 |51786   |\n",
      "|2018|10 |103643  |\n",
      "|2018|9  |103980  |\n",
      "|2018|8  |120381  |\n",
      "|2018|7  |126571  |\n",
      "|2018|6  |116064  |\n",
      "|2018|5  |115846  |\n",
      "|2018|4  |115534  |\n",
      "|2018|3  |119213  |\n",
      "|2018|2  |100004  |\n",
      "|2018|1  |104640  |\n",
      "|2017|12 |93115   |\n",
      "|2017|11 |94266   |\n",
      "|2017|10 |100556  |\n",
      "|2017|9  |102393  |\n",
      "|2017|8  |111431  |\n",
      "|2017|7  |116050  |\n",
      "|2017|6  |105827  |\n",
      "|2017|5  |104915  |\n",
      "|2017|4  |102205  |\n",
      "|2017|3  |102373  |\n",
      "|2017|2  |90085   |\n",
      "|2017|1  |94457   |\n",
      "|2016|12 |83494   |\n",
      "|2016|11 |79423   |\n",
      "|2016|10 |87117   |\n",
      "|2016|9  |89115   |\n",
      "|2016|8  |99052   |\n",
      "|2016|7  |104258  |\n",
      "|2016|6  |96589   |\n",
      "|2016|5  |94926   |\n",
      "|2016|4  |92886   |\n",
      "|2016|3  |93927   |\n",
      "|2016|2  |88004   |\n",
      "|2016|1  |89995   |\n",
      "|2015|12 |75144   |\n",
      "|2015|11 |76795   |\n",
      "|2015|10 |82188   |\n",
      "|2015|9  |80668   |\n",
      "|2015|8  |92089   |\n",
      "|2015|7  |90838   |\n",
      "|2015|6  |82515   |\n",
      "|2015|5  |80100   |\n",
      "|2015|4  |75784   |\n",
      "|2015|3  |78035   |\n",
      "|2015|2  |66395   |\n",
      "|2015|1  |71849   |\n",
      "|2014|12 |59773   |\n",
      "|2014|11 |58920   |\n",
      "|2014|10 |61788   |\n",
      "|2014|9  |60443   |\n",
      "|2014|8  |69443   |\n",
      "|2014|7  |69440   |\n",
      "|2014|6  |58963   |\n",
      "|2014|5  |58075   |\n",
      "|2014|4  |54817   |\n",
      "|2014|3  |54939   |\n",
      "|2014|2  |47114   |\n",
      "|2014|1  |51147   |\n",
      "|2013|12 |43144   |\n",
      "|2013|11 |41769   |\n",
      "|2013|10 |42386   |\n",
      "|2013|9  |42342   |\n",
      "|2013|8  |46889   |\n",
      "|2013|7  |44790   |\n",
      "|2013|6  |40725   |\n",
      "|2013|5  |39455   |\n",
      "|2013|4  |38570   |\n",
      "|2013|3  |39079   |\n",
      "|2013|2  |34136   |\n",
      "|2013|1  |38009   |\n",
      "|2012|12 |30154   |\n",
      "|2012|11 |30150   |\n",
      "|2012|10 |31258   |\n",
      "|2012|9  |30451   |\n",
      "|2012|8  |33586   |\n",
      "|2012|7  |34528   |\n",
      "|2012|6  |31141   |\n",
      "|2012|5  |29168   |\n",
      "|2012|4  |28839   |\n",
      "|2012|3  |29314   |\n",
      "|2012|2  |27563   |\n",
      "|2012|1  |30938   |\n",
      "|2011|12 |24798   |\n",
      "|2011|11 |25696   |\n",
      "|2011|10 |24822   |\n",
      "|2011|9  |25429   |\n",
      "|2011|8  |29900   |\n",
      "|2011|7  |28653   |\n",
      "|2011|6  |25883   |\n",
      "|2011|5  |24274   |\n",
      "|2011|4  |23473   |\n",
      "|2011|3  |24972   |\n",
      "|2011|2  |21541   |\n",
      "|2011|1  |23426   |\n",
      "|2010|12 |18764   |\n",
      "|2010|11 |17619   |\n",
      "|2010|10 |16839   |\n",
      "|2010|9  |17236   |\n",
      "|2010|8  |19586   |\n",
      "|2010|7  |16917   |\n",
      "|2010|6  |13792   |\n",
      "|2010|5  |12850   |\n",
      "|2010|4  |14063   |\n",
      "|2010|3  |14648   |\n",
      "|2010|2  |11796   |\n",
      "|2010|1  |13277   |\n",
      "|2009|12 |9409    |\n",
      "|2009|11 |8575    |\n",
      "|2009|10 |8856    |\n",
      "|2009|9  |9235    |\n",
      "|2009|8  |9853    |\n",
      "|2009|7  |9423    |\n",
      "|2009|6  |8150    |\n",
      "|2009|5  |7715    |\n",
      "|2009|4  |7735    |\n",
      "|2009|3  |7691    |\n",
      "|2009|2  |6545    |\n",
      "|2009|1  |7986    |\n",
      "|2008|12 |5917    |\n",
      "|2008|11 |5806    |\n",
      "|2008|10 |5771    |\n",
      "|2008|9  |6389    |\n",
      "|2008|8  |6513    |\n",
      "|2008|7  |5080    |\n",
      "|2008|6  |4537    |\n",
      "|2008|5  |4072    |\n",
      "|2008|4  |3722    |\n",
      "|2008|3  |3360    |\n",
      "|2008|2  |2949    |\n",
      "|2008|1  |3231    |\n",
      "|2007|12 |2050    |\n",
      "|2007|11 |1765    |\n",
      "|2007|10 |1938    |\n",
      "|2007|9  |1966    |\n",
      "|2007|8  |2311    |\n",
      "|2007|7  |2196    |\n",
      "|2007|6  |1982    |\n",
      "|2007|5  |1448    |\n",
      "|2007|4  |1300    |\n",
      "|2007|3  |1839    |\n",
      "|2007|2  |1396    |\n",
      "|2007|1  |1198    |\n",
      "|2006|12 |585     |\n",
      "|2006|11 |552     |\n",
      "|2006|10 |580     |\n",
      "|2006|9  |556     |\n",
      "|2006|8  |570     |\n",
      "|2006|7  |338     |\n",
      "|2006|6  |243     |\n",
      "+----+---+--------+\n",
      "only showing top 150 rows\n",
      "\n"
     ]
    }
   ],
   "source": [
    "datestest = spark1.sql(\"SELECT EXTRACT(YEAR FROM date) y, EXTRACT(MONTH FROM date) m, COUNT(*) FROM review GROUP BY y,m ORDER BY y DESC,m DESC\")\n",
    "datestest.show(150, False)\n",
    "\n"
   ]
  },
  {
   "cell_type": "code",
   "execution_count": 22,
   "metadata": {},
   "outputs": [
    {
     "name": "stdout",
     "output_type": "stream",
     "text": [
      "+----+---+------------------+-----+\n",
      "|y   |m  |s                 |c    |\n",
      "+----+---+------------------+-----+\n",
      "|2018|11 |3.7924907810928596|5966 |\n",
      "|2018|10 |3.7710658601005367|11737|\n",
      "|2018|9  |3.750930356193514 |11286|\n",
      "|2018|8  |3.798352295017654 |12745|\n",
      "|2018|7  |3.7931681681681684|13320|\n",
      "|2018|6  |3.7911895674300253|12576|\n",
      "|2018|5  |3.7747609942638625|13075|\n",
      "|2018|4  |3.7958705188322495|13222|\n",
      "|2018|3  |3.7846342165898617|13888|\n",
      "|2018|2  |3.796786561986489 |10954|\n",
      "|2018|1  |3.8223363509749304|11488|\n",
      "|2017|12 |3.7571096042910637|9881 |\n",
      "|2017|11 |3.7494858485946527|10211|\n",
      "|2017|10 |3.8122740499074155|11341|\n",
      "|2017|9  |3.7699564586357037|11024|\n",
      "|2017|8  |3.7772495755517825|11780|\n",
      "|2017|7  |3.7793932263215395|11899|\n",
      "|2017|6  |3.776716364610303 |11201|\n",
      "|2017|5  |3.7735767057800955|11505|\n",
      "|2017|4  |3.7772615708274895|11408|\n",
      "|2017|3  |3.773704832390074 |11485|\n",
      "|2017|2  |3.7850622406639003|9640 |\n",
      "|2017|1  |3.8465009023461   |9974 |\n",
      "|2016|12 |3.7431756141947226|8792 |\n",
      "|2016|11 |3.8203470975463794|8355 |\n",
      "|2016|10 |3.804361908874973 |9262 |\n",
      "|2016|9  |3.8093609745672152|9358 |\n",
      "|2016|8  |3.716935238674369 |9867 |\n",
      "|2016|7  |3.794292851652575 |10408|\n",
      "|2016|6  |3.792252842551551 |10378|\n",
      "|2016|5  |3.748698167791707 |10370|\n",
      "|2016|4  |3.7801745269144034|10199|\n",
      "|2016|3  |3.760687866269574 |10409|\n",
      "|2016|2  |3.7510244766862333|9029 |\n",
      "|2016|1  |3.7995110024449876|8998 |\n",
      "|2015|12 |3.7490269762447994|7451 |\n",
      "|2015|11 |3.7656909114150583|7823 |\n",
      "|2015|10 |3.6882107217451847|8618 |\n",
      "|2015|9  |3.7361559622054776|8361 |\n",
      "|2015|8  |3.7778601694915253|9440 |\n",
      "|2015|7  |3.783082169178308 |9091 |\n",
      "|2015|6  |3.773208793712268 |8779 |\n",
      "|2015|5  |3.739687216681777 |8824 |\n",
      "|2015|4  |3.736345405214109 |8477 |\n",
      "|2015|3  |3.7008845691820467|9157 |\n",
      "|2015|2  |3.7111705685618728|7475 |\n",
      "|2015|1  |3.768242992962094 |8099 |\n",
      "|2014|12 |3.7370758008246114|6306 |\n",
      "|2014|11 |3.7410472704122233|6283 |\n",
      "|2014|10 |3.7735793790275336|6828 |\n",
      "|2014|9  |3.69281045751634  |6426 |\n",
      "|2014|8  |3.7937560436524382|7239 |\n",
      "|2014|7  |3.782721088435374 |7350 |\n",
      "|2014|6  |3.738309215536938 |6565 |\n",
      "|2014|5  |3.7564234326824253|6811 |\n",
      "|2014|4  |3.7298904538341158|6390 |\n",
      "|2014|3  |3.7552275522755227|6504 |\n",
      "|2014|2  |3.784733662822625 |5463 |\n",
      "|2014|1  |3.7795438838977193|5788 |\n",
      "|2013|12 |3.7432378679395386|5028 |\n",
      "|2013|11 |3.751970227670753 |4568 |\n",
      "|2013|10 |3.731037310373104 |4878 |\n",
      "|2013|9  |3.7169363538295577|4635 |\n",
      "|2013|8  |3.758343148802513 |5094 |\n",
      "|2013|7  |3.739095151146277 |4929 |\n",
      "|2013|6  |3.7282901554404146|4825 |\n",
      "|2013|5  |3.713270685308274 |4363 |\n",
      "|2013|4  |3.7064879099832417|4177 |\n",
      "|2013|3  |3.7116104868913857|4539 |\n",
      "|2013|2  |3.7023809523809526|3612 |\n",
      "|2013|1  |3.7972648752399234|4168 |\n",
      "|2012|12 |3.7200259235255997|3086 |\n",
      "|2012|11 |3.7601626016260163|2952 |\n",
      "|2012|10 |3.7530339805825244|3296 |\n",
      "|2012|9  |3.6513790891597178|3118 |\n",
      "|2012|8  |3.730111077754428 |3331 |\n",
      "|2012|7  |3.7094285714285715|3500 |\n",
      "|2012|6  |3.75453514739229  |3528 |\n",
      "|2012|5  |3.6925535314797058|3129 |\n",
      "|2012|4  |3.678489326765189 |3045 |\n",
      "|2012|3  |3.6711409395973154|3129 |\n",
      "|2012|2  |3.716927453769559 |2812 |\n",
      "|2012|1  |3.7474659716188823|3453 |\n",
      "|2011|12 |3.7229470452801228|2606 |\n",
      "|2011|11 |3.7319461444308444|2451 |\n",
      "|2011|10 |3.7483095416979713|2662 |\n",
      "|2011|9  |3.7093065037729067|2783 |\n",
      "|2011|8  |3.717924821373097 |3219 |\n",
      "|2011|7  |3.725223732184289 |3017 |\n",
      "|2011|6  |3.744914971657219 |2999 |\n",
      "|2011|5  |3.7490454703228044|2881 |\n",
      "|2011|4  |3.7810890360559233|2718 |\n",
      "|2011|3  |3.7840103159252094|3102 |\n",
      "|2011|2  |3.7513747054202673|2546 |\n",
      "|2011|1  |3.7502694933524974|2783 |\n",
      "|2010|12 |3.7444616177228234|1941 |\n",
      "|2010|11 |3.7616892911010558|1989 |\n",
      "|2010|10 |3.765024630541872 |2030 |\n",
      "|2010|9  |3.806928171166582 |1963 |\n",
      "|2010|8  |3.801330376940133 |2255 |\n",
      "+----+---+------------------+-----+\n",
      "only showing top 100 rows\n",
      "\n"
     ]
    }
   ],
   "source": [
    "phoenix_reviews = spark1.sql(\"SELECT EXTRACT(YEAR FROM date) y, EXTRACT(MONTH FROM date) m, AVG(review.stars) s, COUNT(*) c FROM business JOIN review ON business.business_id=review.business_id WHERE city = 'Phoenix' GROUP BY y,m ORDER BY y DESC,m DESC\")\n",
    "phoenix_reviews.show(100, False)\n",
    "\n",
    "\n"
   ]
  },
  {
   "cell_type": "code",
   "execution_count": null,
   "metadata": {},
   "outputs": [],
   "source": []
  },
  {
   "cell_type": "code",
   "execution_count": null,
   "metadata": {},
   "outputs": [],
   "source": []
  },
  {
   "cell_type": "code",
   "execution_count": null,
   "metadata": {},
   "outputs": [],
   "source": []
  },
  {
   "cell_type": "code",
   "execution_count": 29,
   "metadata": {},
   "outputs": [
    {
     "data": {
      "text/plain": [
       "DataFrame[y: int, m: int, count(1): bigint]"
      ]
     },
     "execution_count": 29,
     "metadata": {},
     "output_type": "execute_result"
    }
   ],
   "source": [
    "datestest"
   ]
  },
  {
   "cell_type": "code",
   "execution_count": 30,
   "metadata": {},
   "outputs": [
    {
     "data": {
      "text/html": [
       "<div>\n",
       "<style scoped>\n",
       "    .dataframe tbody tr th:only-of-type {\n",
       "        vertical-align: middle;\n",
       "    }\n",
       "\n",
       "    .dataframe tbody tr th {\n",
       "        vertical-align: top;\n",
       "    }\n",
       "\n",
       "    .dataframe thead th {\n",
       "        text-align: right;\n",
       "    }\n",
       "</style>\n",
       "<table border=\"1\" class=\"dataframe\">\n",
       "  <thead>\n",
       "    <tr style=\"text-align: right;\">\n",
       "      <th></th>\n",
       "      <th>y</th>\n",
       "      <th>m</th>\n",
       "      <th>s</th>\n",
       "      <th>c</th>\n",
       "    </tr>\n",
       "  </thead>\n",
       "  <tbody>\n",
       "    <tr>\n",
       "      <th>0</th>\n",
       "      <td>2018</td>\n",
       "      <td>11</td>\n",
       "      <td>3.792491</td>\n",
       "      <td>5966</td>\n",
       "    </tr>\n",
       "    <tr>\n",
       "      <th>1</th>\n",
       "      <td>2018</td>\n",
       "      <td>10</td>\n",
       "      <td>3.771066</td>\n",
       "      <td>11737</td>\n",
       "    </tr>\n",
       "    <tr>\n",
       "      <th>2</th>\n",
       "      <td>2018</td>\n",
       "      <td>9</td>\n",
       "      <td>3.750930</td>\n",
       "      <td>11286</td>\n",
       "    </tr>\n",
       "    <tr>\n",
       "      <th>3</th>\n",
       "      <td>2018</td>\n",
       "      <td>8</td>\n",
       "      <td>3.798352</td>\n",
       "      <td>12745</td>\n",
       "    </tr>\n",
       "    <tr>\n",
       "      <th>4</th>\n",
       "      <td>2018</td>\n",
       "      <td>7</td>\n",
       "      <td>3.793168</td>\n",
       "      <td>13320</td>\n",
       "    </tr>\n",
       "  </tbody>\n",
       "</table>\n",
       "</div>"
      ],
      "text/plain": [
       "      y   m         s      c\n",
       "0  2018  11  3.792491   5966\n",
       "1  2018  10  3.771066  11737\n",
       "2  2018   9  3.750930  11286\n",
       "3  2018   8  3.798352  12745\n",
       "4  2018   7  3.793168  13320"
      ]
     },
     "execution_count": 30,
     "metadata": {},
     "output_type": "execute_result"
    }
   ],
   "source": [
    "phoenix_reviews_df=phoenix_reviews.toPandas()\n",
    "phoenix_reviews_df.head()"
   ]
  },
  {
   "cell_type": "code",
   "execution_count": null,
   "metadata": {},
   "outputs": [],
   "source": []
  },
  {
   "cell_type": "code",
   "execution_count": null,
   "metadata": {},
   "outputs": [],
   "source": []
  },
  {
   "cell_type": "code",
   "execution_count": null,
   "metadata": {},
   "outputs": [],
   "source": []
  },
  {
   "cell_type": "code",
   "execution_count": 31,
   "metadata": {},
   "outputs": [],
   "source": [
    "import pandas as pd\n",
    "import matplotlib.pyplot as plt\n",
    "import numpy as np"
   ]
  },
  {
   "cell_type": "code",
   "execution_count": 32,
   "metadata": {},
   "outputs": [],
   "source": [
    "phoenix_unemployment_df = pd.read_csv('phoenix_unemployment.csv')"
   ]
  },
  {
   "cell_type": "code",
   "execution_count": 33,
   "metadata": {},
   "outputs": [
    {
     "ename": "NameError",
     "evalue": "name 'phoenixdf' is not defined",
     "output_type": "error",
     "traceback": [
      "\u001b[0;31m---------------------------------------------------------------------------\u001b[0m",
      "\u001b[0;31mNameError\u001b[0m                                 Traceback (most recent call last)",
      "\u001b[0;32m<ipython-input-33-e3f02c368721>\u001b[0m in \u001b[0;36m<module>\u001b[0;34m()\u001b[0m\n\u001b[0;32m----> 1\u001b[0;31m \u001b[0mphoenixdf\u001b[0m\u001b[0;34m.\u001b[0m\u001b[0mdtypes\u001b[0m\u001b[0;34m\u001b[0m\u001b[0m\n\u001b[0m",
      "\u001b[0;31mNameError\u001b[0m: name 'phoenixdf' is not defined"
     ]
    }
   ],
   "source": [
    "# phoenixdf.dtypes"
   ]
  },
  {
   "cell_type": "code",
   "execution_count": 36,
   "metadata": {},
   "outputs": [],
   "source": [
    "phoenix_unemployment_df['DATE dt']=pd.to_datetime(phoenix_unemployment_df['DATE'])"
   ]
  },
  {
   "cell_type": "code",
   "execution_count": 37,
   "metadata": {},
   "outputs": [
    {
     "data": {
      "text/html": [
       "<div>\n",
       "<style scoped>\n",
       "    .dataframe tbody tr th:only-of-type {\n",
       "        vertical-align: middle;\n",
       "    }\n",
       "\n",
       "    .dataframe tbody tr th {\n",
       "        vertical-align: top;\n",
       "    }\n",
       "\n",
       "    .dataframe thead th {\n",
       "        text-align: right;\n",
       "    }\n",
       "</style>\n",
       "<table border=\"1\" class=\"dataframe\">\n",
       "  <thead>\n",
       "    <tr style=\"text-align: right;\">\n",
       "      <th></th>\n",
       "      <th>DATE</th>\n",
       "      <th>PHOE004UR</th>\n",
       "      <th>DATE dt</th>\n",
       "      <th>m</th>\n",
       "      <th>y</th>\n",
       "    </tr>\n",
       "  </thead>\n",
       "  <tbody>\n",
       "    <tr>\n",
       "      <th>0</th>\n",
       "      <td>1/1/90</td>\n",
       "      <td>4.4</td>\n",
       "      <td>1990-01-01</td>\n",
       "      <td>1</td>\n",
       "      <td>1990</td>\n",
       "    </tr>\n",
       "    <tr>\n",
       "      <th>1</th>\n",
       "      <td>2/1/90</td>\n",
       "      <td>4.4</td>\n",
       "      <td>1990-02-01</td>\n",
       "      <td>2</td>\n",
       "      <td>1990</td>\n",
       "    </tr>\n",
       "    <tr>\n",
       "      <th>2</th>\n",
       "      <td>3/1/90</td>\n",
       "      <td>4.4</td>\n",
       "      <td>1990-03-01</td>\n",
       "      <td>3</td>\n",
       "      <td>1990</td>\n",
       "    </tr>\n",
       "    <tr>\n",
       "      <th>3</th>\n",
       "      <td>4/1/90</td>\n",
       "      <td>4.5</td>\n",
       "      <td>1990-04-01</td>\n",
       "      <td>4</td>\n",
       "      <td>1990</td>\n",
       "    </tr>\n",
       "    <tr>\n",
       "      <th>4</th>\n",
       "      <td>5/1/90</td>\n",
       "      <td>4.5</td>\n",
       "      <td>1990-05-01</td>\n",
       "      <td>5</td>\n",
       "      <td>1990</td>\n",
       "    </tr>\n",
       "  </tbody>\n",
       "</table>\n",
       "</div>"
      ],
      "text/plain": [
       "     DATE  PHOE004UR    DATE dt  m     y\n",
       "0  1/1/90        4.4 1990-01-01  1  1990\n",
       "1  2/1/90        4.4 1990-02-01  2  1990\n",
       "2  3/1/90        4.4 1990-03-01  3  1990\n",
       "3  4/1/90        4.5 1990-04-01  4  1990\n",
       "4  5/1/90        4.5 1990-05-01  5  1990"
      ]
     },
     "execution_count": 37,
     "metadata": {},
     "output_type": "execute_result"
    }
   ],
   "source": [
    "phoenix_unemployment_df['m'] = phoenix_unemployment_df['DATE dt'].map(lambda x: x.month)\n",
    "phoenix_unemployment_df['y'] = phoenix_unemployment_df['DATE dt'].map(lambda x: x.year)\n",
    "phoenix_unemployment_df.head()"
   ]
  },
  {
   "cell_type": "code",
   "execution_count": 38,
   "metadata": {},
   "outputs": [],
   "source": [
    "phoenix_merged=pd.merge(phoenix_unemployment_df, phoenix_reviews_df, how='inner', on=['m', 'y'], left_index=False, right_index=False) \n",
    "phoenix_merged=phoenix_merged[phoenix_merged['y'] > 2010]      \n",
    "        \n",
    "        "
   ]
  },
  {
   "cell_type": "code",
   "execution_count": 39,
   "metadata": {},
   "outputs": [
    {
     "data": {
      "text/html": [
       "<div>\n",
       "<style scoped>\n",
       "    .dataframe tbody tr th:only-of-type {\n",
       "        vertical-align: middle;\n",
       "    }\n",
       "\n",
       "    .dataframe tbody tr th {\n",
       "        vertical-align: top;\n",
       "    }\n",
       "\n",
       "    .dataframe thead th {\n",
       "        text-align: right;\n",
       "    }\n",
       "</style>\n",
       "<table border=\"1\" class=\"dataframe\">\n",
       "  <thead>\n",
       "    <tr style=\"text-align: right;\">\n",
       "      <th></th>\n",
       "      <th>DATE</th>\n",
       "      <th>PHOE004UR</th>\n",
       "      <th>DATE dt</th>\n",
       "      <th>m</th>\n",
       "      <th>y</th>\n",
       "      <th>s</th>\n",
       "      <th>c</th>\n",
       "    </tr>\n",
       "  </thead>\n",
       "  <tbody>\n",
       "    <tr>\n",
       "      <th>70</th>\n",
       "      <td>1/1/11</td>\n",
       "      <td>9.0</td>\n",
       "      <td>2011-01-01</td>\n",
       "      <td>1</td>\n",
       "      <td>2011</td>\n",
       "      <td>3.750269</td>\n",
       "      <td>2783</td>\n",
       "    </tr>\n",
       "    <tr>\n",
       "      <th>71</th>\n",
       "      <td>2/1/11</td>\n",
       "      <td>8.9</td>\n",
       "      <td>2011-02-01</td>\n",
       "      <td>2</td>\n",
       "      <td>2011</td>\n",
       "      <td>3.751375</td>\n",
       "      <td>2546</td>\n",
       "    </tr>\n",
       "    <tr>\n",
       "      <th>72</th>\n",
       "      <td>3/1/11</td>\n",
       "      <td>8.8</td>\n",
       "      <td>2011-03-01</td>\n",
       "      <td>3</td>\n",
       "      <td>2011</td>\n",
       "      <td>3.784010</td>\n",
       "      <td>3102</td>\n",
       "    </tr>\n",
       "    <tr>\n",
       "      <th>73</th>\n",
       "      <td>4/1/11</td>\n",
       "      <td>8.7</td>\n",
       "      <td>2011-04-01</td>\n",
       "      <td>4</td>\n",
       "      <td>2011</td>\n",
       "      <td>3.781089</td>\n",
       "      <td>2718</td>\n",
       "    </tr>\n",
       "    <tr>\n",
       "      <th>74</th>\n",
       "      <td>5/1/11</td>\n",
       "      <td>8.7</td>\n",
       "      <td>2011-05-01</td>\n",
       "      <td>5</td>\n",
       "      <td>2011</td>\n",
       "      <td>3.749045</td>\n",
       "      <td>2881</td>\n",
       "    </tr>\n",
       "  </tbody>\n",
       "</table>\n",
       "</div>"
      ],
      "text/plain": [
       "      DATE  PHOE004UR    DATE dt  m     y         s     c\n",
       "70  1/1/11        9.0 2011-01-01  1  2011  3.750269  2783\n",
       "71  2/1/11        8.9 2011-02-01  2  2011  3.751375  2546\n",
       "72  3/1/11        8.8 2011-03-01  3  2011  3.784010  3102\n",
       "73  4/1/11        8.7 2011-04-01  4  2011  3.781089  2718\n",
       "74  5/1/11        8.7 2011-05-01  5  2011  3.749045  2881"
      ]
     },
     "execution_count": 39,
     "metadata": {},
     "output_type": "execute_result"
    }
   ],
   "source": [
    "phoenix_merged.head()"
   ]
  },
  {
   "cell_type": "code",
   "execution_count": null,
   "metadata": {},
   "outputs": [],
   "source": [
    "plt.scatter(phoenix_merged['PHOE004UR'], phoenix_merged['s'])"
   ]
  },
  {
   "cell_type": "code",
   "execution_count": null,
   "metadata": {},
   "outputs": [],
   "source": [
    "np.corrcoef(phoenix_merged['PHOE004UR'], phoenix_merged['s'])"
   ]
  },
  {
   "cell_type": "code",
   "execution_count": null,
   "metadata": {},
   "outputs": [],
   "source": [
    "import seaborn as sns\n",
    "sns.regplot(x='PHOE004UR', y='s', data=phoenix_merged);"
   ]
  },
  {
   "cell_type": "code",
   "execution_count": null,
   "metadata": {},
   "outputs": [],
   "source": [
    "import statsmodels.formula.api as smf\n",
    "mod = smf.ols('PHOE004UR~s', data=phoenix_merged)\n",
    "res = mod.fit()\n",
    "res.summary()"
   ]
  },
  {
   "cell_type": "code",
   "execution_count": null,
   "metadata": {},
   "outputs": [],
   "source": []
  },
  {
   "cell_type": "code",
   "execution_count": null,
   "metadata": {},
   "outputs": [],
   "source": []
  },
  {
   "cell_type": "code",
   "execution_count": null,
   "metadata": {},
   "outputs": [],
   "source": []
  },
  {
   "cell_type": "code",
   "execution_count": null,
   "metadata": {},
   "outputs": [],
   "source": []
  },
  {
   "cell_type": "code",
   "execution_count": null,
   "metadata": {},
   "outputs": [],
   "source": []
  },
  {
   "cell_type": "code",
   "execution_count": null,
   "metadata": {},
   "outputs": [],
   "source": []
  },
  {
   "cell_type": "code",
   "execution_count": null,
   "metadata": {},
   "outputs": [],
   "source": []
  },
  {
   "cell_type": "code",
   "execution_count": null,
   "metadata": {},
   "outputs": [],
   "source": []
  },
  {
   "cell_type": "code",
   "execution_count": null,
   "metadata": {},
   "outputs": [],
   "source": []
  },
  {
   "cell_type": "code",
   "execution_count": null,
   "metadata": {},
   "outputs": [],
   "source": []
  },
  {
   "cell_type": "code",
   "execution_count": null,
   "metadata": {},
   "outputs": [],
   "source": []
  },
  {
   "cell_type": "code",
   "execution_count": null,
   "metadata": {},
   "outputs": [],
   "source": []
  },
  {
   "cell_type": "code",
   "execution_count": null,
   "metadata": {},
   "outputs": [],
   "source": []
  },
  {
   "cell_type": "markdown",
   "metadata": {},
   "source": [
    "#  Sources\n",
    "- https://fred.stlouisfed.org/series/PHOE004UR"
   ]
  },
  {
   "cell_type": "code",
   "execution_count": null,
   "metadata": {},
   "outputs": [],
   "source": []
  }
 ],
 "metadata": {
  "kernelspec": {
   "display_name": "Python 3",
   "language": "python",
   "name": "python3"
  },
  "language_info": {
   "codemirror_mode": {
    "name": "ipython",
    "version": 3
   },
   "file_extension": ".py",
   "mimetype": "text/x-python",
   "name": "python",
   "nbconvert_exporter": "python",
   "pygments_lexer": "ipython3",
   "version": "3.6.5"
  }
 },
 "nbformat": 4,
 "nbformat_minor": 2
}
