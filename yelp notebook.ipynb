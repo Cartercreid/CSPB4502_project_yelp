{
 "cells": [
  {
   "cell_type": "code",
   "execution_count": 1,
   "metadata": {},
   "outputs": [],
   "source": [
    "import json\n",
    "import sqlite3"
   ]
  },
  {
   "cell_type": "code",
   "execution_count": 2,
   "metadata": {},
   "outputs": [],
   "source": [
    "#NOTE: business_copy2.json file created by bash command: sed '1s/^/[/;$!s/$/,/;$s/$/]/' business.json > business_copy2.json\n",
    "with open('business_copy2.json') as business_json_file:\n",
    "    data = json.loads(business_json_file.read())"
   ]
  },
  {
   "cell_type": "code",
   "execution_count": 3,
   "metadata": {},
   "outputs": [
    {
     "data": {
      "text/plain": [
       "dict_keys(['business_id', 'name', 'address', 'city', 'state', 'postal_code', 'latitude', 'longitude', 'stars', 'review_count', 'is_open', 'attributes', 'categories', 'hours'])"
      ]
     },
     "execution_count": 3,
     "metadata": {},
     "output_type": "execute_result"
    }
   ],
   "source": [
    "#data[3].keys()"
   ]
  },
  {
   "cell_type": "code",
   "execution_count": 4,
   "metadata": {},
   "outputs": [],
   "source": [
    "#conn = sqlite3.connect('yelp.db')"
   ]
  },
  {
   "cell_type": "code",
   "execution_count": 5,
   "metadata": {},
   "outputs": [],
   "source": [
    "conn = sqlite3.connect('yelp.db')\n",
    "c=conn.cursor()"
   ]
  },
  {
   "cell_type": "code",
   "execution_count": 6,
   "metadata": {},
   "outputs": [
    {
     "data": {
      "text/plain": [
       "<sqlite3.Cursor at 0x119456730>"
      ]
     },
     "execution_count": 6,
     "metadata": {},
     "output_type": "execute_result"
    }
   ],
   "source": [
    "c.execute(\"DELETE FROM review\")\n",
    "c.execute(\"DELETE FROM business\")\n",
    "c.execute(\"DELETE FROM user\")\n",
    "\n",
    "\n",
    "\n",
    "\n"
   ]
  },
  {
   "cell_type": "code",
   "execution_count": 7,
   "metadata": {},
   "outputs": [],
   "source": [
    "c.execute(\"CREATE TABLE IF NOT EXISTS business (id varchar(22) PRIMARY KEY, name VARCHAR(255), neighborhood VARCHAR(255), address VARCHAR(255), city VARCHAR(255), state VARCHAR(255), postal_code VARCHAR(255), latitude FLOAT, longitude FLOAT, stars FLOAT, review_count INT, is_open TINYINT)\")\n"
   ]
  },
  {
   "cell_type": "code",
   "execution_count": 8,
   "metadata": {},
   "outputs": [
    {
     "data": {
      "text/plain": [
       "<sqlite3.Cursor at 0x119456730>"
      ]
     },
     "execution_count": 8,
     "metadata": {},
     "output_type": "execute_result"
    }
   ],
   "source": [
    "c.execute(\"SELECT COUNT(*) from business\") #not important right now. should be 0"
   ]
  },
  {
   "cell_type": "code",
   "execution_count": 9,
   "metadata": {},
   "outputs": [
    {
     "name": "stdout",
     "output_type": "stream",
     "text": [
      "(0,)\n"
     ]
    }
   ],
   "source": [
    "rows = c.fetchall() #see above comment\n",
    "for row in rows:\n",
    "    print(row)"
   ]
  },
  {
   "cell_type": "code",
   "execution_count": 10,
   "metadata": {},
   "outputs": [
    {
     "data": {
      "text/plain": [
       "192609"
      ]
     },
     "execution_count": 10,
     "metadata": {},
     "output_type": "execute_result"
    }
   ],
   "source": [
    "len(data) #should be 192609 (rows from business)"
   ]
  },
  {
   "cell_type": "code",
   "execution_count": 11,
   "metadata": {},
   "outputs": [
    {
     "data": {
      "text/plain": [
       "{'business_id': 'av4PscnPle7gP0Zeiyp1-Q',\n",
       " 'name': 'Rudy\\'s \"Country Store\" and Bar-B-Q',\n",
       " 'address': '1733 N Higley Rd',\n",
       " 'city': 'Gilbert',\n",
       " 'state': 'AZ',\n",
       " 'postal_code': '85234',\n",
       " 'latitude': 33.3800548309,\n",
       " 'longitude': -111.7219710258,\n",
       " 'stars': 3.5,\n",
       " 'review_count': 88,\n",
       " 'is_open': 1,\n",
       " 'attributes': {'RestaurantsAttire': \"u'casual'\",\n",
       "  'RestaurantsGoodForGroups': 'True',\n",
       "  'WiFi': \"'no'\",\n",
       "  'GoodForMeal': \"{'dessert': False, 'latenight': False, 'lunch': True, 'dinner': True, 'brunch': True, 'breakfast': False}\",\n",
       "  'RestaurantsReservations': 'False',\n",
       "  'RestaurantsPriceRange2': '1',\n",
       "  'Caters': 'True',\n",
       "  'HasTV': 'True',\n",
       "  'BusinessAcceptsCreditCards': 'True',\n",
       "  'RestaurantsTableService': 'False',\n",
       "  'RestaurantsTakeOut': 'True',\n",
       "  'Ambience': \"{'touristy': False, 'hipster': False, 'romantic': False, 'divey': False, 'intimate': False, 'trendy': False, 'upscale': False, 'classy': False, 'casual': True}\",\n",
       "  'BusinessParking': \"{'garage': False, 'street': False, 'validated': False, 'lot': True, 'valet': False}\",\n",
       "  'RestaurantsDelivery': 'False',\n",
       "  'OutdoorSeating': 'False',\n",
       "  'Alcohol': \"'beer_and_wine'\",\n",
       "  'GoodForKids': 'True'},\n",
       " 'categories': 'Restaurants, Barbeque',\n",
       " 'hours': {'Monday': '7:0-22:0',\n",
       "  'Tuesday': '7:0-22:0',\n",
       "  'Wednesday': '7:0-22:0',\n",
       "  'Thursday': '7:0-22:0',\n",
       "  'Friday': '7:0-22:30',\n",
       "  'Saturday': '7:0-22:30',\n",
       "  'Sunday': '7:0-22:0'}}"
      ]
     },
     "execution_count": 11,
     "metadata": {},
     "output_type": "execute_result"
    }
   ],
   "source": [
    "data[55465]"
   ]
  },
  {
   "cell_type": "code",
   "execution_count": 12,
   "metadata": {},
   "outputs": [
    {
     "data": {
      "text/plain": [
       "<sqlite3.Cursor at 0x119456730>"
      ]
     },
     "execution_count": 12,
     "metadata": {},
     "output_type": "execute_result"
    }
   ],
   "source": [
    "c.execute(\"DELETE FROM review\")"
   ]
  },
  {
   "cell_type": "code",
   "execution_count": 13,
   "metadata": {},
   "outputs": [
    {
     "data": {
      "text/plain": [
       "<sqlite3.Cursor at 0x119456730>"
      ]
     },
     "execution_count": 13,
     "metadata": {},
     "output_type": "execute_result"
    }
   ],
   "source": [
    "errors=[]\n",
    "for d in data:\n",
    "    a=d['business_id']\n",
    "    keys = d.keys()\n",
    "    fields=['id']\n",
    "    values=[d['business_id']]\n",
    "    if 'name' in keys:\n",
    "        fields.append('name')\n",
    "        values.append(d['name'])\n",
    "    if 'neighborhood' in keys:\n",
    "        fields.append('neighborhood')\n",
    "        values.append(d['neighborhood'])\n",
    "    if 'address' in keys:\n",
    "        fields.append('address')\n",
    "        values.append(d['address'])\n",
    "    if 'city' in keys:\n",
    "        fields.append('city')\n",
    "        values.append(d['city'])\n",
    "    if 'state' in keys:\n",
    "        fields.append('state')\n",
    "        values.append(d['state'])\n",
    "    if 'postal_code' in keys:\n",
    "        fields.append('postal_code')\n",
    "        values.append(d['postal_code'])\n",
    "    if 'latitude' in keys:\n",
    "        fields.append('latitude')\n",
    "        values.append(d['latitude'])\n",
    "    if 'longitude' in keys:\n",
    "        fields.append('longitude')\n",
    "        values.append(d['longitude'])\n",
    "    if 'stars' in keys:\n",
    "        fields.append('stars')\n",
    "        values.append(d['stars'])\n",
    "    if 'review_count' in keys:\n",
    "        fields.append('review_count')\n",
    "        values.append(d['review_count'])\n",
    "    if 'is_open' in keys:\n",
    "        fields.append('is_open')\n",
    "        values.append(d['is_open'])\n",
    "    \n",
    "    fields_str = '(' + str(fields)[1:-1] + ')'\n",
    "    values_str = '(' + str(values)[1:-1] + ')'\n",
    "    try:\n",
    "        c.execute(\"INSERT INTO business\"+fields_str+\" VALUES \" + values_str)\n",
    "    except:\n",
    "        try:\n",
    "            test=\"(\"\n",
    "            for v in values:\n",
    "                if isinstance(v, str):\n",
    "                    test += v.replace('\"','') + \", \"\n",
    "                else:\n",
    "                    test += str(v) + \", \"\n",
    "            test=test[:-2]\n",
    "            test+=\")\"\n",
    "            #values_str=clean_escape_quote(test)\n",
    "            values_str = test.replace('\"', '')\n",
    "            c.execute(\"INSERT INTO business\"+fields_str+\" VALUES \" + values_str)\n",
    "        except:\n",
    "            errors.append(d)\n",
    "\n",
    "#the below 7 inserts had errors caused by single or double quotes in review contents\n",
    "\n",
    "c.execute(\"INSERT INTO business('id', 'name', 'address', 'city', 'state', 'postal_code', 'latitude', 'longitude', 'stars', 'review_count', 'is_open') VALUES('av4PscnPle7gP0Zeiyp1-Q', 'Rudy\\'\\'s \\\"\\\"Country Store\\\"\\\" and Bar-B-Q', '1733 N Higley Rd', 'Gilbert', 'AZ', '85234', 33.3800548309, -111.7219710258, 3.5, 88, 1)\")\n",
    "\n",
    "c.execute(\"INSERT INTO business('id', 'name', 'address', 'city', 'state', 'postal_code', 'latitude', 'longitude', 'stars', 'review_count', 'is_open') VALUES('SdO1UHwE8Rjz3Pz2lBUa5w', 'Rudy\\'\\'s \\\"\\\"Country Store\\\"\\\" and Bar-B-Q', '845 N Litchfield Rd', 'Goodyear', 'AZ', '85338', 33.4555637362, -112.3575907946, 3.5, 459, 1)\")\n",
    "\n",
    "c.execute(\"INSERT INTO business('id', 'name', 'address', 'city', 'state', 'postal_code', 'latitude', 'longitude', 'stars', 'review_count', 'is_open') VALUES('f2LuojiTQxXVAFRMf-h6gQ', 'Isaac \\\"\\\"Ike\\\"\\\" Moore | Synergy Sotheby\\'\\'s International Realty\\', '10100 W Charleston Blvd, Ste 160', 'Las Vegas', 'NV', '89135', 36.159548, -115.3172336, 5.0, 3, 1)\")\n",
    "\n",
    "c.execute(\"INSERT INTO business('id', 'name', 'address', 'city', 'state', 'postal_code', 'latitude', 'longitude', 'stars', 'review_count', 'is_open') VALUES('YHX61tYzUKlz9H4gdROlDA', 'Boyd\\'\\'s Car Wash \\\"\\\" N\\\"\\\" Detail', '500 East Morehead St, Parking Garage Level B', 'South Charlotte', 'NC', '28202', 35.2171602, -80.848097, 5.0, 38, 1)\")\n",
    "\n",
    "c.execute(\"INSERT INTO business('id', 'name', 'address', 'city', 'state', 'postal_code', 'latitude', 'longitude', 'stars', 'review_count', 'is_open') VALUES('GHSQr2tUukV1nF6W4INYJw', 'Hali\\'\\'s Angels The Hali Gillin Group', '10424 S Eastern Ave, Ste 200, Keller Williams of Southern Nevada', 'Henderson', 'NV', '89052', 36.0024846, -115.1067783, 4.5, 7, 1)\")\n",
    "\n",
    "c.execute(\"INSERT INTO business('id', 'name', 'address', 'city', 'state', 'postal_code', 'latitude', 'longitude', 'stars', 'review_count', 'is_open') VALUES('j2c3pdNlEnm0P11m0Zp4hg', 'Pets R Us Grooming Salon', '4210 Hudson Dr', 'Stow', 'OH', '44224', 41.1827109, -81.4730782, 3.5, 6, 0)\")\n",
    "\n",
    "c.execute(\"INSERT INTO business('id', 'name', 'address', 'city', 'state', 'postal_code', 'latitude', 'longitude', 'stars', 'review_count', 'is_open') VALUES('wHVWfC_a6koeiJXAu78e1g', 'Rudy\\'\\'s \\\"\\\"Country Store\\\"\\\" and Bar-B-Q', '7300 W Chandler Blvd', 'Chandler', 'AZ', '85226', 33.3057389863, -111.9675305486, 4.0, 835, 1)\")"
   ]
  },
  {
   "cell_type": "code",
   "execution_count": 14,
   "metadata": {},
   "outputs": [
    {
     "data": {
      "text/plain": [
       "7"
      ]
     },
     "execution_count": 14,
     "metadata": {},
     "output_type": "execute_result"
    }
   ],
   "source": [
    "len(errors) #should be 7. not super important"
   ]
  },
  {
   "cell_type": "code",
   "execution_count": 15,
   "metadata": {},
   "outputs": [
    {
     "ename": "IntegrityError",
     "evalue": "UNIQUE constraint failed: business.id",
     "output_type": "error",
     "traceback": [
      "\u001b[0;31m---------------------------------------------------------------------------\u001b[0m",
      "\u001b[0;31mIntegrityError\u001b[0m                            Traceback (most recent call last)",
      "\u001b[0;32m<ipython-input-15-ab0b089f38a1>\u001b[0m in \u001b[0;36m<module>\u001b[0;34m()\u001b[0m\n\u001b[0;32m----> 1\u001b[0;31m \u001b[0mc\u001b[0m\u001b[0;34m.\u001b[0m\u001b[0mexecute\u001b[0m\u001b[0;34m(\u001b[0m\u001b[0;34m\"INSERT INTO business('id', 'name', 'address', 'city', 'state', 'postal_code', 'latitude', 'longitude', 'stars', 'review_count', 'is_open') VALUES('av4PscnPle7gP0Zeiyp1-Q', 'Rudy\\'\\'s \\\"\\\"Country Store\\\"\\\" and Bar-B-Q', '1733 N Higley Rd', 'Gilbert', 'AZ', '85234', 33.3800548309, -111.7219710258, 3.5, 88, 1)\"\u001b[0m\u001b[0;34m)\u001b[0m\u001b[0;34m\u001b[0m\u001b[0m\n\u001b[0m\u001b[1;32m      2\u001b[0m \u001b[0;34m\u001b[0m\u001b[0m\n\u001b[1;32m      3\u001b[0m \u001b[0mc\u001b[0m\u001b[0;34m.\u001b[0m\u001b[0mexecute\u001b[0m\u001b[0;34m(\u001b[0m\u001b[0;34m\"INSERT INTO business('id', 'name', 'address', 'city', 'state', 'postal_code', 'latitude', 'longitude', 'stars', 'review_count', 'is_open') VALUES('SdO1UHwE8Rjz3Pz2lBUa5w', 'Rudy\\'\\'s \\\"\\\"Country Store\\\"\\\" and Bar-B-Q', '845 N Litchfield Rd', 'Goodyear', 'AZ', '85338', 33.4555637362, -112.3575907946, 3.5, 459, 1)\"\u001b[0m\u001b[0;34m)\u001b[0m\u001b[0;34m\u001b[0m\u001b[0m\n\u001b[1;32m      4\u001b[0m \u001b[0;34m\u001b[0m\u001b[0m\n\u001b[1;32m      5\u001b[0m \u001b[0mc\u001b[0m\u001b[0;34m.\u001b[0m\u001b[0mexecute\u001b[0m\u001b[0;34m(\u001b[0m\u001b[0;34m\"INSERT INTO business('id', 'name', 'address', 'city', 'state', 'postal_code', 'latitude', 'longitude', 'stars', 'review_count', 'is_open') VALUES('f2LuojiTQxXVAFRMf-h6gQ', 'Isaac \\\"\\\"Ike\\\"\\\" Moore | Synergy Sotheby\\'\\'s International Realty\\', '10100 W Charleston Blvd, Ste 160', 'Las Vegas', 'NV', '89135', 36.159548, -115.3172336, 5.0, 3, 1)\"\u001b[0m\u001b[0;34m)\u001b[0m\u001b[0;34m\u001b[0m\u001b[0m\n",
      "\u001b[0;31mIntegrityError\u001b[0m: UNIQUE constraint failed: business.id"
     ]
    }
   ],
   "source": [
    "# c.execute(\"INSERT INTO business('id', 'name', 'address', 'city', 'state', 'postal_code', 'latitude', 'longitude', 'stars', 'review_count', 'is_open') VALUES('av4PscnPle7gP0Zeiyp1-Q', 'Rudy\\'\\'s \\\"\\\"Country Store\\\"\\\" and Bar-B-Q', '1733 N Higley Rd', 'Gilbert', 'AZ', '85234', 33.3800548309, -111.7219710258, 3.5, 88, 1)\")\n",
    "\n",
    "# c.execute(\"INSERT INTO business('id', 'name', 'address', 'city', 'state', 'postal_code', 'latitude', 'longitude', 'stars', 'review_count', 'is_open') VALUES('SdO1UHwE8Rjz3Pz2lBUa5w', 'Rudy\\'\\'s \\\"\\\"Country Store\\\"\\\" and Bar-B-Q', '845 N Litchfield Rd', 'Goodyear', 'AZ', '85338', 33.4555637362, -112.3575907946, 3.5, 459, 1)\")\n",
    "\n",
    "# c.execute(\"INSERT INTO business('id', 'name', 'address', 'city', 'state', 'postal_code', 'latitude', 'longitude', 'stars', 'review_count', 'is_open') VALUES('f2LuojiTQxXVAFRMf-h6gQ', 'Isaac \\\"\\\"Ike\\\"\\\" Moore | Synergy Sotheby\\'\\'s International Realty\\', '10100 W Charleston Blvd, Ste 160', 'Las Vegas', 'NV', '89135', 36.159548, -115.3172336, 5.0, 3, 1)\")\n",
    "\n",
    "# c.execute(\"INSERT INTO business('id', 'name', 'address', 'city', 'state', 'postal_code', 'latitude', 'longitude', 'stars', 'review_count', 'is_open') VALUES('YHX61tYzUKlz9H4gdROlDA', 'Boyd\\'\\'s Car Wash \\\"\\\" N\\\"\\\" Detail', '500 East Morehead St, Parking Garage Level B', 'South Charlotte', 'NC', '28202', 35.2171602, -80.848097, 5.0, 38, 1)\")\n",
    "\n",
    "# c.execute(\"INSERT INTO business('id', 'name', 'address', 'city', 'state', 'postal_code', 'latitude', 'longitude', 'stars', 'review_count', 'is_open') VALUES('GHSQr2tUukV1nF6W4INYJw', 'Hali\\'\\'s Angels The Hali Gillin Group', '10424 S Eastern Ave, Ste 200, Keller Williams of Southern Nevada', 'Henderson', 'NV', '89052', 36.0024846, -115.1067783, 4.5, 7, 1)\")\n",
    "\n",
    "# c.execute(\"INSERT INTO business('id', 'name', 'address', 'city', 'state', 'postal_code', 'latitude', 'longitude', 'stars', 'review_count', 'is_open') VALUES('j2c3pdNlEnm0P11m0Zp4hg', 'Pets R Us Grooming Salon', '4210 Hudson Dr', 'Stow', 'OH', '44224', 41.1827109, -81.4730782, 3.5, 6, 0)\")\n",
    "\n",
    "# c.execute(\"INSERT INTO business('id', 'name', 'address', 'city', 'state', 'postal_code', 'latitude', 'longitude', 'stars', 'review_count', 'is_open') VALUES('wHVWfC_a6koeiJXAu78e1g', 'Rudy\\'\\'s \\\"\\\"Country Store\\\"\\\" and Bar-B-Q', '7300 W Chandler Blvd', 'Chandler', 'AZ', '85226', 33.3057389863, -111.9675305486, 4.0, 835, 1)\")\n",
    "\n",
    "\n"
   ]
  },
  {
   "cell_type": "code",
   "execution_count": 16,
   "metadata": {},
   "outputs": [
    {
     "data": {
      "text/plain": [
       "\"('id', 'name', 'address', 'city', 'state', 'postal_code', 'latitude', 'longitude', 'stars', 'review_count', 'is_open')\""
      ]
     },
     "execution_count": 16,
     "metadata": {},
     "output_type": "execute_result"
    }
   ],
   "source": [
    "# fields_str"
   ]
  },
  {
   "cell_type": "code",
   "execution_count": 17,
   "metadata": {},
   "outputs": [
    {
     "data": {
      "text/plain": [
       "\"(''c1f_VAX1KIK8-JoVhjbYOw'', ''Oriental Relax'', ''3735 S Las Vegas Blvd'', ''Las Vegas'', ''NV'', ''89109'', 36.1072672, -115.1719204, 4.0, 3, 0)\""
      ]
     },
     "execution_count": 17,
     "metadata": {},
     "output_type": "execute_result"
    }
   ],
   "source": [
    "# def clean_escape_quote(s):\n",
    "#     copy_str=\"\"\n",
    "#     count=0\n",
    "#     for c in s:\n",
    "#         if c == \"'\":\n",
    "#             copy_str+=\"''\"\n",
    "#         elif c == '\"':\n",
    "#             copy_str += '\"\"'\n",
    "#         else:\n",
    "#             copy_str+=c\n",
    "#     return copy_str\n",
    "# clean_escape_quote(values_str)  "
   ]
  },
  {
   "cell_type": "code",
   "execution_count": 18,
   "metadata": {},
   "outputs": [
    {
     "name": "stdout",
     "output_type": "stream",
     "text": [
      "h\n",
      "e\n",
      "l\n",
      "l\n",
      "o\n"
     ]
    }
   ],
   "source": []
  },
  {
   "cell_type": "code",
   "execution_count": 135,
   "metadata": {},
   "outputs": [],
   "source": [
    "# d={\"business_id\":\"av4PscnPle7gP0Zeiyp1-Q\",\"name\":\"Rudy's \\\"Country Store\\\" and Bar-B-Q\",\"address\":\"1733 N Higley Rd\",\"city\":\"Gilbert\",\"state\":\"AZ\",\"postal_code\":\"85234\",\"latitude\":33.3800548309,\"longitude\":-111.7219710258,\"stars\":3.5,\"review_count\":88,\"is_open\":1,\"attributes\":{\"RestaurantsAttire\":\"u'casual'\",\"RestaurantsGoodForGroups\":\"True\",\"WiFi\":\"'no'\",\"GoodForMeal\":\"{'dessert': False, 'latenight': False, 'lunch': True, 'dinner': True, 'brunch': True, 'breakfast': False}\",\"RestaurantsReservations\":\"False\",\"RestaurantsPriceRange2\":\"1\",\"Caters\":\"True\",\"HasTV\":\"True\",\"BusinessAcceptsCreditCards\":\"True\",\"RestaurantsTableService\":\"False\",\"RestaurantsTakeOut\":\"True\",\"Ambience\":\"{'touristy': False, 'hipster': False, 'romantic': False, 'divey': False, 'intimate': False, 'trendy': False, 'upscale': False, 'classy': False, 'casual': True}\",\"BusinessParking\":\"{'garage': False, 'street': False, 'validated': False, 'lot': True, 'valet': False}\",\"RestaurantsDelivery\":\"False\",\"OutdoorSeating\":\"False\",\"Alcohol\":\"'beer_and_wine'\",\"GoodForKids\":\"True\"},\"categories\":\"Restaurants, Barbeque\",\"hours\":{\"Monday\":\"7:0-22:0\",\"Tuesday\":\"7:0-22:0\",\"Wednesday\":\"7:0-22:0\",\"Thursday\":\"7:0-22:0\",\"Friday\":\"7:0-22:30\",\"Saturday\":\"7:0-22:30\",\"Sunday\":\"7:0-22:0\"}}\n"
   ]
  },
  {
   "cell_type": "code",
   "execution_count": 19,
   "metadata": {},
   "outputs": [
    {
     "data": {
      "text/plain": [
       "['c1f_VAX1KIK8-JoVhjbYOw',\n",
       " 'Oriental Relax',\n",
       " '3735 S Las Vegas Blvd',\n",
       " 'Las Vegas',\n",
       " 'NV',\n",
       " '89109',\n",
       " 36.1072672,\n",
       " -115.1719204,\n",
       " 4.0,\n",
       " 3,\n",
       " 0]"
      ]
     },
     "execution_count": 19,
     "metadata": {},
     "output_type": "execute_result"
    }
   ],
   "source": [
    "# values"
   ]
  },
  {
   "cell_type": "code",
   "execution_count": 20,
   "metadata": {},
   "outputs": [
    {
     "data": {
      "text/plain": [
       "\"['c1f_VAX1KIK8-JoVhjbYOw', 'Oriental Relax', '3735 S Las Vegas Blvd', 'Las Vegas', 'NV', '89109', 36.1072672, -115.1719204, 4.0, 3, 0]\""
      ]
     },
     "execution_count": 20,
     "metadata": {},
     "output_type": "execute_result"
    }
   ],
   "source": [
    "# str(values)"
   ]
  },
  {
   "cell_type": "code",
   "execution_count": 21,
   "metadata": {},
   "outputs": [
    {
     "data": {
      "text/plain": [
       "'Oriental Relax'"
      ]
     },
     "execution_count": 21,
     "metadata": {},
     "output_type": "execute_result"
    }
   ],
   "source": [
    "# values[1]"
   ]
  },
  {
   "cell_type": "code",
   "execution_count": 22,
   "metadata": {},
   "outputs": [],
   "source": [
    "# test=\"(\"\n",
    "# for v in values:\n",
    "#     if isinstance(v, str):\n",
    "#         test += v + \", \"\n",
    "#     else:\n",
    "#         test += str(v) + \", \"\n",
    "# test=test[:-2]\n",
    "# test+=\")\""
   ]
  },
  {
   "cell_type": "code",
   "execution_count": 23,
   "metadata": {},
   "outputs": [
    {
     "data": {
      "text/plain": [
       "'(c1f_VAX1KIK8-JoVhjbYOw, Oriental Relax, 3735 S Las Vegas Blvd, Las Vegas, NV, 89109, 36.1072672, -115.1719204, 4.0, 3, 0)'"
      ]
     },
     "execution_count": 23,
     "metadata": {},
     "output_type": "execute_result"
    }
   ],
   "source": [
    "# test"
   ]
  },
  {
   "cell_type": "code",
   "execution_count": null,
   "metadata": {},
   "outputs": [],
   "source": []
  },
  {
   "cell_type": "code",
   "execution_count": null,
   "metadata": {},
   "outputs": [],
   "source": []
  },
  {
   "cell_type": "code",
   "execution_count": null,
   "metadata": {},
   "outputs": [],
   "source": []
  },
  {
   "cell_type": "code",
   "execution_count": 24,
   "metadata": {},
   "outputs": [
    {
     "ename": "OSError",
     "evalue": "[Errno 22] Invalid argument",
     "output_type": "error",
     "traceback": [
      "\u001b[0;31m---------------------------------------------------------------------------\u001b[0m",
      "\u001b[0;31mOSError\u001b[0m                                   Traceback (most recent call last)",
      "\u001b[0;32m<ipython-input-24-6a42e3137a09>\u001b[0m in \u001b[0;36m<module>\u001b[0;34m()\u001b[0m\n\u001b[1;32m      1\u001b[0m \u001b[0;32mwith\u001b[0m \u001b[0mopen\u001b[0m\u001b[0;34m(\u001b[0m\u001b[0;34m'user_copy.json'\u001b[0m\u001b[0;34m)\u001b[0m \u001b[0;32mas\u001b[0m \u001b[0mf\u001b[0m\u001b[0;34m:\u001b[0m\u001b[0;34m\u001b[0m\u001b[0m\n\u001b[0;32m----> 2\u001b[0;31m     \u001b[0mdata\u001b[0m\u001b[0;34m=\u001b[0m\u001b[0mjson\u001b[0m\u001b[0;34m.\u001b[0m\u001b[0mloads\u001b[0m\u001b[0;34m(\u001b[0m\u001b[0mf\u001b[0m\u001b[0;34m.\u001b[0m\u001b[0mread\u001b[0m\u001b[0;34m(\u001b[0m\u001b[0;34m)\u001b[0m\u001b[0;34m)\u001b[0m\u001b[0;34m\u001b[0m\u001b[0m\n\u001b[0m",
      "\u001b[0;31mOSError\u001b[0m: [Errno 22] Invalid argument"
     ]
    }
   ],
   "source": [
    "#NOTE: user_copy.json file created by bash command: sed '1s/^/[/;$!s/$/,/;$s/$/]/' user.json > user.json\n",
    "with open('user_copy.json') as f: #file to large. this probably won't work. need to split up\n",
    "    data=json.loads(f.read())"
   ]
  },
  {
   "cell_type": "code",
   "execution_count": 2,
   "metadata": {},
   "outputs": [
    {
     "ename": "OSError",
     "evalue": "[Errno 22] Invalid argument",
     "output_type": "error",
     "traceback": [
      "\u001b[0;31m---------------------------------------------------------------------------\u001b[0m",
      "\u001b[0;31mOSError\u001b[0m                                   Traceback (most recent call last)",
      "\u001b[0;32m<ipython-input-2-73a5469e9aab>\u001b[0m in \u001b[0;36m<module>\u001b[0;34m()\u001b[0m\n\u001b[0;32m----> 1\u001b[0;31m \u001b[0mopen\u001b[0m\u001b[0;34m(\u001b[0m\u001b[0;34m'user_copy.json'\u001b[0m\u001b[0;34m)\u001b[0m\u001b[0;34m.\u001b[0m\u001b[0mread\u001b[0m\u001b[0;34m(\u001b[0m\u001b[0;34m)\u001b[0m\u001b[0;34m\u001b[0m\u001b[0m\n\u001b[0m",
      "\u001b[0;31mOSError\u001b[0m: [Errno 22] Invalid argument"
     ]
    }
   ],
   "source": []
  },
  {
   "cell_type": "code",
   "execution_count": 25,
   "metadata": {},
   "outputs": [],
   "source": [
    "with open('user_copy_1_25000.json') as user_copy_file: \n",
    "    data1 = json.loads(user_copy_file.read())          \n",
    "\n",
    "#entries 1-25000. this file manually created using command\n",
    "#sed -n '1,25000p' user_copy.txt > user_copy_1_25000.txt\n",
    "#Then going into the file manually and putting a closing bracket at the end and deleting comma (keeping in array format)\n"
   ]
  },
  {
   "cell_type": "code",
   "execution_count": 27,
   "metadata": {},
   "outputs": [
    {
     "data": {
      "text/plain": [
       "25000"
      ]
     },
     "execution_count": 27,
     "metadata": {},
     "output_type": "execute_result"
    }
   ],
   "source": [
    "len(data1) #a check. should be 25000"
   ]
  },
  {
   "cell_type": "code",
   "execution_count": 28,
   "metadata": {},
   "outputs": [],
   "source": [
    "with open('user_copy_25000_50000.json') as user_copy_file: #see comments above\n",
    "    data2 = json.loads(user_copy_file.read())"
   ]
  },
  {
   "cell_type": "code",
   "execution_count": 29,
   "metadata": {},
   "outputs": [
    {
     "data": {
      "text/plain": [
       "25000"
      ]
     },
     "execution_count": 29,
     "metadata": {},
     "output_type": "execute_result"
    }
   ],
   "source": [
    "len(data2)"
   ]
  },
  {
   "cell_type": "code",
   "execution_count": 30,
   "metadata": {},
   "outputs": [],
   "source": [
    "with open('user_copy_50001_100000.json') as user_copy_file:\n",
    "    data3 = json.loads(user_copy_file.read())"
   ]
  },
  {
   "cell_type": "code",
   "execution_count": 31,
   "metadata": {},
   "outputs": [
    {
     "data": {
      "text/plain": [
       "50000"
      ]
     },
     "execution_count": 31,
     "metadata": {},
     "output_type": "execute_result"
    }
   ],
   "source": [
    "len(data3)"
   ]
  },
  {
   "cell_type": "code",
   "execution_count": 32,
   "metadata": {},
   "outputs": [],
   "source": [
    "with open('user_copy_100001_500000.json') as user_copy_file:\n",
    "    data4 = json.loads(user_copy_file.read())"
   ]
  },
  {
   "cell_type": "code",
   "execution_count": 33,
   "metadata": {},
   "outputs": [
    {
     "data": {
      "text/plain": [
       "400000"
      ]
     },
     "execution_count": 33,
     "metadata": {},
     "output_type": "execute_result"
    }
   ],
   "source": [
    "len(data4)"
   ]
  },
  {
   "cell_type": "code",
   "execution_count": 34,
   "metadata": {},
   "outputs": [],
   "source": [
    "with open('user_copy_500001_1000000.json') as user_copy_file:\n",
    "    data5 = json.loads(user_copy_file.read())"
   ]
  },
  {
   "cell_type": "code",
   "execution_count": 35,
   "metadata": {},
   "outputs": [
    {
     "data": {
      "text/plain": [
       "500000"
      ]
     },
     "execution_count": 35,
     "metadata": {},
     "output_type": "execute_result"
    }
   ],
   "source": [
    "len(data5)"
   ]
  },
  {
   "cell_type": "code",
   "execution_count": 36,
   "metadata": {},
   "outputs": [],
   "source": [
    "with open('user_copy_1000001_1637138.json') as user_copy_file:\n",
    "    data6 = json.loads(user_copy_file.read())"
   ]
  },
  {
   "cell_type": "code",
   "execution_count": 37,
   "metadata": {},
   "outputs": [
    {
     "data": {
      "text/plain": [
       "637138"
      ]
     },
     "execution_count": 37,
     "metadata": {},
     "output_type": "execute_result"
    }
   ],
   "source": [
    "len(data6)"
   ]
  },
  {
   "cell_type": "code",
   "execution_count": 41,
   "metadata": {},
   "outputs": [],
   "source": [
    "# conn = sqlite3.connect('yelp.db')\n",
    "# c=conn.cursor()"
   ]
  },
  {
   "cell_type": "code",
   "execution_count": 38,
   "metadata": {},
   "outputs": [
    {
     "data": {
      "text/plain": [
       "<sqlite3.Cursor at 0x119456730>"
      ]
     },
     "execution_count": 38,
     "metadata": {},
     "output_type": "execute_result"
    }
   ],
   "source": [
    "c.execute(\"CREATE TABLE IF NOT EXISTS user (id varchar(22) PRIMARY KEY, name VARCHAR(255), review_count INT, yelping_since DATETIME, useful INT, funny INT, cool INT, fans INT, average_stars FLOAT, compliment_hot INT, compliment_more INT, compliment_profile INT, compliment_cute INT, compliment_list INT, compliment_note INT, compliment_plain INT, compliment_cool INT, compliment_funny INT, compliment_writer INT, compliment_photos INT)\")\n"
   ]
  },
  {
   "cell_type": "code",
   "execution_count": 39,
   "metadata": {},
   "outputs": [],
   "source": [
    "rows = c.fetchall()\n",
    "for row in rows:\n",
    "    print(row)"
   ]
  },
  {
   "cell_type": "code",
   "execution_count": 40,
   "metadata": {},
   "outputs": [
    {
     "ename": "KeyError",
     "evalue": "'user_id'",
     "output_type": "error",
     "traceback": [
      "\u001b[0;31m---------------------------------------------------------------------------\u001b[0m",
      "\u001b[0;31mKeyError\u001b[0m                                  Traceback (most recent call last)",
      "\u001b[0;32m<ipython-input-40-a381f653a506>\u001b[0m in \u001b[0;36m<module>\u001b[0;34m()\u001b[0m\n\u001b[0;32m----> 1\u001b[0;31m \u001b[0mdata\u001b[0m\u001b[0;34m[\u001b[0m\u001b[0;36m1\u001b[0m\u001b[0;34m]\u001b[0m\u001b[0;34m[\u001b[0m\u001b[0;34m'user_id'\u001b[0m\u001b[0;34m]\u001b[0m\u001b[0;34m\u001b[0m\u001b[0m\n\u001b[0m",
      "\u001b[0;31mKeyError\u001b[0m: 'user_id'"
     ]
    }
   ],
   "source": []
  },
  {
   "cell_type": "code",
   "execution_count": 44,
   "metadata": {},
   "outputs": [],
   "source": [
    "errors=[]\n",
    "for data in [data1, data2, data3, data4, data5, data6]:\n",
    "    for d in data:\n",
    "        a=d['user_id']\n",
    "        keys = d.keys()\n",
    "        fields=['id']\n",
    "        values=[d['user_id']]\n",
    "        if 'name' in keys:\n",
    "            fields.append('name')\n",
    "            values.append(d['name'])\n",
    "        if 'review_coung' in keys:\n",
    "            fields.append('review_coung')\n",
    "            values.append(d['review_coung'])\n",
    "        if 'yelping_since' in keys:\n",
    "            fields.append('yelping_since')\n",
    "            values.append(d['yelping_since'])\n",
    "        if 'useful' in keys:\n",
    "            fields.append('useful')\n",
    "            values.append(d['useful'])\n",
    "        if 'funny' in keys:\n",
    "            fields.append('funny')\n",
    "            values.append(d['funny'])\n",
    "        if 'cool' in keys:\n",
    "            fields.append('cool')\n",
    "            values.append(d['cool'])\n",
    "        if 'fans' in keys:\n",
    "            fields.append('fans')\n",
    "            values.append(d['fans'])\n",
    "        if 'average_stars' in keys:\n",
    "            fields.append('average_stars')\n",
    "            values.append(d['average_stars'])\n",
    "        if 'compliment_hot' in keys:\n",
    "            fields.append('compliment_hot')\n",
    "            values.append(d['compliment_hot'])\n",
    "        if 'compliment_more' in keys:\n",
    "            fields.append('compliment_more')\n",
    "            values.append(d['compliment_more'])\n",
    "        if 'compliment_profile' in keys:\n",
    "            fields.append('compliment_profile')\n",
    "            values.append(d['compliment_profile'])\n",
    "        if 'compliment_cute' in keys:\n",
    "            fields.append('compliment_cute')\n",
    "            values.append(d['compliment_cute'])\n",
    "        if 'compliment_list' in keys:\n",
    "            fields.append('compliment_list')\n",
    "            values.append(d['compliment_list'])\n",
    "        if 'compliment_note' in keys:\n",
    "            fields.append('compliment_note')\n",
    "            values.append(d['compliment_note'])\n",
    "        if 'compliment_plain' in keys:\n",
    "            fields.append('compliment_plain')\n",
    "            values.append(d['compliment_plain'])\n",
    "        if 'compliment_cool' in keys:\n",
    "            fields.append('compliment_cool')\n",
    "            values.append(d['compliment_cool'])\n",
    "        if 'compliment_funny' in keys:\n",
    "            fields.append('compliment_funny')\n",
    "            values.append(d['compliment_funny'])\n",
    "        if 'compliment_writer' in keys:\n",
    "            fields.append('compliment_writer')\n",
    "            values.append(d['compliment_writer'])\n",
    "        if 'compliment_photos' in keys:\n",
    "            fields.append('compliment_photos')\n",
    "            values.append(d['compliment_photos'])            \n",
    "\n",
    "        fields_str = '(' + str(fields)[1:-1] + ')'\n",
    "        values_str = '(' + str(values)[1:-1] + ')'\n",
    "        try:\n",
    "            c.execute(\"INSERT INTO user\"+fields_str+\" VALUES \" + values_str)\n",
    "        except:\n",
    "            errors.append(d)"
   ]
  },
  {
   "cell_type": "code",
   "execution_count": 45,
   "metadata": {},
   "outputs": [
    {
     "data": {
      "text/plain": [
       "0"
      ]
     },
     "execution_count": 45,
     "metadata": {},
     "output_type": "execute_result"
    }
   ],
   "source": [
    "len(errors) #should be 0"
   ]
  },
  {
   "cell_type": "code",
   "execution_count": 46,
   "metadata": {},
   "outputs": [
    {
     "data": {
      "text/plain": [
       "<sqlite3.Cursor at 0x119456730>"
      ]
     },
     "execution_count": 46,
     "metadata": {},
     "output_type": "execute_result"
    }
   ],
   "source": [
    "c.execute(\"SELECT * FROM user LIMIT 10\") #just testing that table was filled properly. execute below cell"
   ]
  },
  {
   "cell_type": "code",
   "execution_count": 47,
   "metadata": {},
   "outputs": [
    {
     "name": "stdout",
     "output_type": "stream",
     "text": [
      "('l6BmjZMeQD3rDxWUbiAiow', 'Rashmi', None, '2013-10-08 23:11:33', 84, 17, 25, 5, 4.03, 2, 0, 0, 0, 0, 1, 1, 1, 1, 2, 0)\n",
      "('4XChL029mKr5hydo79Ljxg', 'Jenna', None, '2013-02-21 22:29:06', 48, 22, 16, 4, 3.63, 1, 0, 0, 0, 0, 0, 0, 1, 1, 0, 0)\n",
      "('bc8C_eETBWL0olvFSJJd0w', 'David', None, '2013-10-04 00:16:10', 28, 8, 10, 0, 3.71, 0, 0, 0, 0, 0, 1, 0, 0, 0, 0, 0)\n",
      "('dD0gZpBctWGdWo9WlGuhlA', 'Angela', None, '2014-05-22 15:57:30', 30, 4, 14, 5, 4.85, 1, 0, 0, 0, 0, 0, 2, 0, 0, 1, 0)\n",
      "('MM4RJAeH6yuaN8oZDSt0RA', 'Nancy', None, '2013-10-23 07:02:50', 1114, 279, 665, 39, 4.08, 28, 1, 0, 0, 1, 16, 57, 80, 80, 25, 5)\n",
      "('0rK89TS8xqy1wI4nYI1wfw', 'Marilyn', None, '2011-06-23 08:05:13', 3475, 2424, 3048, 186, 4.2, 350, 46, 50, 44, 3, 221, 404, 483, 483, 149, 195)\n",
      "('TEtzbpgA2BFBrC0y0sCbfw', 'Keane', None, '2006-02-15 18:29:35', 13311, 19356, 15319, 696, 4.39, 5233, 314, 333, 889, 152, 1600, 3635, 4991, 4991, 1086, 428)\n",
      "('KGuqerdeNhxzXZEyBaqqSw', 'Andre', None, '2014-06-07 01:50:09', 1, 0, 1, 0, 4.33, 0, 0, 0, 0, 0, 0, 0, 0, 0, 0, 0)\n",
      "('T0gWkTHWRChVUe_Dn1F8nw', 'Tanya', None, '2005-07-20 22:38:17', 1630, 693, 1244, 57, 4.21, 60, 16, 7, 7, 3, 31, 72, 95, 95, 34, 2)\n",
      "('NQffx45eJaeqhFcMadKUQA', 'Trace', None, '2008-12-10 22:59:45', 202, 70, 185, 15, 4.53, 13, 3, 0, 2, 0, 12, 8, 14, 14, 3, 5)\n"
     ]
    }
   ],
   "source": [
    "rows = c.fetchall()\n",
    "for row in rows:\n",
    "    print(row)"
   ]
  },
  {
   "cell_type": "code",
   "execution_count": 65,
   "metadata": {},
   "outputs": [],
   "source": [
    "#c.close()"
   ]
  },
  {
   "cell_type": "code",
   "execution_count": 41,
   "metadata": {},
   "outputs": [],
   "source": [
    "# conn = sqlite3.connect('yelp.db')\n",
    "# c=conn.cursor()"
   ]
  },
  {
   "cell_type": "code",
   "execution_count": 48,
   "metadata": {},
   "outputs": [],
   "source": [
    "with open('review_copy_1_1000000.json') as user_copy_file: #this file using sed command mentioned above\n",
    "    data1 = json.loads(user_copy_file.read())"
   ]
  },
  {
   "cell_type": "code",
   "execution_count": 49,
   "metadata": {},
   "outputs": [],
   "source": [
    "with open('review_copy_1000001_2000000.json') as user_copy_file:\n",
    "    data2 = json.loads(user_copy_file.read())"
   ]
  },
  {
   "cell_type": "code",
   "execution_count": 50,
   "metadata": {},
   "outputs": [],
   "source": [
    "with open('review_copy_2000001_3000000.json') as user_copy_file:\n",
    "    data3 = json.loads(user_copy_file.read())"
   ]
  },
  {
   "cell_type": "code",
   "execution_count": 51,
   "metadata": {},
   "outputs": [],
   "source": [
    "with open('review_copy_3000001_4000000.json') as user_copy_file:\n",
    "    data4 = json.loads(user_copy_file.read())"
   ]
  },
  {
   "cell_type": "code",
   "execution_count": 52,
   "metadata": {},
   "outputs": [],
   "source": [
    "with open('review_copy_4000001_5000000.json') as user_copy_file:\n",
    "    data5 = json.loads(user_copy_file.read())"
   ]
  },
  {
   "cell_type": "code",
   "execution_count": 53,
   "metadata": {},
   "outputs": [],
   "source": [
    "with open('review_copy_5000001_6000000.json') as user_copy_file:\n",
    "    data6 = json.loads(user_copy_file.read())"
   ]
  },
  {
   "cell_type": "code",
   "execution_count": 54,
   "metadata": {},
   "outputs": [],
   "source": [
    "with open('review_copy_6000001_6685900.json') as user_copy_file:\n",
    "    data7 = json.loads(user_copy_file.read())"
   ]
  },
  {
   "cell_type": "code",
   "execution_count": 55,
   "metadata": {},
   "outputs": [
    {
     "data": {
      "text/plain": [
       "<sqlite3.Cursor at 0x119456730>"
      ]
     },
     "execution_count": 55,
     "metadata": {},
     "output_type": "execute_result"
    }
   ],
   "source": [
    "c.execute(\"CREATE TABLE IF NOT EXISTS review (id VARCHAR(22) PRIMARY KEY, stars INT, date DATETIME, text TEXT, useful INT, funny INT, cool INT, business_id VARCHAR(22), user_id VARCHAR(22), FOREIGN KEY(business_id) REFERENCES business(id), FOREIGN KEY(user_id) REFERENCES user(id))\")\n"
   ]
  },
  {
   "cell_type": "code",
   "execution_count": 56,
   "metadata": {},
   "outputs": [
    {
     "data": {
      "text/plain": [
       "<sqlite3.Cursor at 0x119456730>"
      ]
     },
     "execution_count": 56,
     "metadata": {},
     "output_type": "execute_result"
    }
   ],
   "source": [
    "# c.execute(\"SELECT COUNT(*) FROM REVIEW\")"
   ]
  },
  {
   "cell_type": "code",
   "execution_count": 57,
   "metadata": {},
   "outputs": [
    {
     "data": {
      "text/plain": [
       "{'review_id': 'Q1sbwvVQXV2734tPgoKj4Q',\n",
       " 'user_id': 'hG7b0MtEbXx5QzbzE6C_VA',\n",
       " 'business_id': 'ujmEBvifdJM6h6RLv4wQIg',\n",
       " 'stars': 1.0,\n",
       " 'useful': 6,\n",
       " 'funny': 1,\n",
       " 'cool': 0,\n",
       " 'text': 'Total bill for this horrible service? Over $8Gs. These crooks actually had the nerve to charge us $69 for 3 pills. I checked online the pills can be had for 19 cents EACH! Avoid Hospital ERs at all costs.',\n",
       " 'date': '2013-05-07 04:34:36'}"
      ]
     },
     "execution_count": 57,
     "metadata": {},
     "output_type": "execute_result"
    }
   ],
   "source": [
    "# data1[0]"
   ]
  },
  {
   "cell_type": "code",
   "execution_count": 58,
   "metadata": {},
   "outputs": [
    {
     "name": "stdout",
     "output_type": "stream",
     "text": [
      "(0,)\n"
     ]
    }
   ],
   "source": [
    "# rows = c.fetchall()\n",
    "# for row in rows:\n",
    "#     print(row)"
   ]
  },
  {
   "cell_type": "code",
   "execution_count": 59,
   "metadata": {},
   "outputs": [
    {
     "data": {
      "text/plain": [
       "{'review_id': 'Q1sbwvVQXV2734tPgoKj4Q',\n",
       " 'user_id': 'hG7b0MtEbXx5QzbzE6C_VA',\n",
       " 'business_id': 'ujmEBvifdJM6h6RLv4wQIg',\n",
       " 'stars': 1.0,\n",
       " 'useful': 6,\n",
       " 'funny': 1,\n",
       " 'cool': 0,\n",
       " 'text': 'Total bill for this horrible service? Over $8Gs. These crooks actually had the nerve to charge us $69 for 3 pills. I checked online the pills can be had for 19 cents EACH! Avoid Hospital ERs at all costs.',\n",
       " 'date': '2013-05-07 04:34:36'}"
      ]
     },
     "execution_count": 59,
     "metadata": {},
     "output_type": "execute_result"
    }
   ],
   "source": [
    "#data1[0]"
   ]
  },
  {
   "cell_type": "code",
   "execution_count": 60,
   "metadata": {},
   "outputs": [],
   "source": [
    "errors=[] #This cell isby far the slowest (~25+ mins for me)\n",
    "for data in [data1, data2, data3, data4, data5, data6, data7]:\n",
    "    for d in data:\n",
    "        a=d['review_id']\n",
    "        keys = d.keys()\n",
    "        fields=['id']\n",
    "        values=[d['review_id']]\n",
    "        if 'stars' in keys:\n",
    "            fields.append('stars')\n",
    "            values.append(d['stars'])\n",
    "        if 'date' in keys:\n",
    "            fields.append('date')\n",
    "            values.append(d['date'])\n",
    "        if 'text' in keys:\n",
    "            fields.append('text')\n",
    "            values.append(d['text'])\n",
    "        if 'useful' in keys:\n",
    "            fields.append('useful')\n",
    "            values.append(d['useful'])\n",
    "        if 'funny' in keys:\n",
    "            fields.append('funny')\n",
    "            values.append(d['funny'])\n",
    "        if 'cool' in keys:\n",
    "            fields.append('cool')\n",
    "            values.append(d['cool'])\n",
    "        if 'business_id' in keys:\n",
    "            fields.append('business_id')\n",
    "            values.append(d['business_id'])\n",
    "        if 'user_id' in keys:\n",
    "            fields.append('user_id')\n",
    "            values.append(d['user_id']) \n",
    "\n",
    "        fields_str = '(' + str(fields)[1:-1] + ')'\n",
    "        values_str = '(' + str(values)[1:-1] + ')'\n",
    "        try:\n",
    "            c.execute(\"INSERT INTO review\"+fields_str+\" VALUES \" + values_str)\n",
    "        except:\n",
    "#             try:\n",
    "            values[3]=values[3].replace(\"'\", \"\").replace('\"', '')\n",
    "            values_str = '(' + str(values)[1:-1] + ')'\n",
    "            c.execute(\"INSERT INTO review\"+fields_str+\" VALUES \" + values_str)\n",
    "#             except:\n",
    "#                 print(\"error\")\n",
    "#                 errors.append((values, values_str))"
   ]
  },
  {
   "cell_type": "code",
   "execution_count": 63,
   "metadata": {},
   "outputs": [
    {
     "name": "stdout",
     "output_type": "stream",
     "text": [
      "(6685900,)\n"
     ]
    }
   ],
   "source": [
    "c.execute(\"SELECT COUNT(*) FROM REVIEW\")\n",
    "rows = c.fetchall()\n",
    "for row in rows:\n",
    "    print(row) #should print 6685900"
   ]
  },
  {
   "cell_type": "code",
   "execution_count": 62,
   "metadata": {},
   "outputs": [
    {
     "name": "stdout",
     "output_type": "stream",
     "text": [
      "('l6BmjZMeQD3rDxWUbiAiow', 'Rashmi', None, '2013-10-08 23:11:33', 84, 17, 25, 5, 4.03, 2, 0, 0, 0, 0, 1, 1, 1, 1, 2, 0)\n",
      "('4XChL029mKr5hydo79Ljxg', 'Jenna', None, '2013-02-21 22:29:06', 48, 22, 16, 4, 3.63, 1, 0, 0, 0, 0, 0, 0, 1, 1, 0, 0)\n",
      "('bc8C_eETBWL0olvFSJJd0w', 'David', None, '2013-10-04 00:16:10', 28, 8, 10, 0, 3.71, 0, 0, 0, 0, 0, 1, 0, 0, 0, 0, 0)\n",
      "('dD0gZpBctWGdWo9WlGuhlA', 'Angela', None, '2014-05-22 15:57:30', 30, 4, 14, 5, 4.85, 1, 0, 0, 0, 0, 0, 2, 0, 0, 1, 0)\n",
      "('MM4RJAeH6yuaN8oZDSt0RA', 'Nancy', None, '2013-10-23 07:02:50', 1114, 279, 665, 39, 4.08, 28, 1, 0, 0, 1, 16, 57, 80, 80, 25, 5)\n"
     ]
    }
   ],
   "source": [
    "c.execute(\"Select * FROM user LIMIT 5\")\n",
    "rows = c.fetchall()\n",
    "for row in rows:\n",
    "    print(row)"
   ]
  },
  {
   "cell_type": "code",
   "execution_count": null,
   "metadata": {},
   "outputs": [],
   "source": []
  },
  {
   "cell_type": "code",
   "execution_count": null,
   "metadata": {},
   "outputs": [],
   "source": []
  },
  {
   "cell_type": "code",
   "execution_count": 78,
   "metadata": {},
   "outputs": [],
   "source": [
    "# conn = sqlite3.connect('../yelp.db')\n",
    "# c=conn.cursor()"
   ]
  },
  {
   "cell_type": "code",
   "execution_count": null,
   "metadata": {},
   "outputs": [],
   "source": []
  },
  {
   "cell_type": "code",
   "execution_count": 79,
   "metadata": {},
   "outputs": [
    {
     "data": {
      "text/plain": [
       "<sqlite3.Cursor at 0x1482392d0>"
      ]
     },
     "execution_count": 79,
     "metadata": {},
     "output_type": "execute_result"
    }
   ],
   "source": [
    "# c.execute(\"Select * FROM review LIMIT 5\")\n"
   ]
  },
  {
   "cell_type": "code",
   "execution_count": 80,
   "metadata": {},
   "outputs": [],
   "source": [
    "# rows = c.fetchall()\n",
    "# for row in rows:\n",
    "#     print(row)"
   ]
  },
  {
   "cell_type": "code",
   "execution_count": 71,
   "metadata": {},
   "outputs": [],
   "source": [
    "# c.execute('Select AVG(stars) FROM review group by strftime(\"%m\", date);')\n",
    "# rows = c.fetchall()\n",
    "# for row in rows:\n",
    "#     print(row)"
   ]
  },
  {
   "cell_type": "code",
   "execution_count": 72,
   "metadata": {},
   "outputs": [
    {
     "name": "stdout",
     "output_type": "stream",
     "text": [
      "(0,)\n"
     ]
    }
   ],
   "source": [
    "# c.execute('Select COUNT(*) from user')\n",
    "# rows = c.fetchall()\n",
    "# for row in rows:\n",
    "#     print(row)"
   ]
  },
  {
   "cell_type": "code",
   "execution_count": 76,
   "metadata": {},
   "outputs": [],
   "source": [
    "conn.close()"
   ]
  },
  {
   "cell_type": "code",
   "execution_count": 13,
   "metadata": {},
   "outputs": [],
   "source": [
    "\n"
   ]
  },
  {
   "cell_type": "code",
   "execution_count": 14,
   "metadata": {},
   "outputs": [
    {
     "ename": "DatabaseError",
     "evalue": "database disk image is malformed",
     "output_type": "error",
     "traceback": [
      "\u001b[0;31m---------------------------------------------------------------------------\u001b[0m",
      "\u001b[0;31mDatabaseError\u001b[0m                             Traceback (most recent call last)",
      "\u001b[0;32m<ipython-input-14-6042d2625f4d>\u001b[0m in \u001b[0;36m<module>\u001b[0;34m()\u001b[0m\n\u001b[1;32m      1\u001b[0m \u001b[0mc\u001b[0m\u001b[0;34m=\u001b[0m\u001b[0mconn\u001b[0m\u001b[0;34m.\u001b[0m\u001b[0mcursor\u001b[0m\u001b[0;34m(\u001b[0m\u001b[0;34m)\u001b[0m\u001b[0;34m\u001b[0m\u001b[0m\n\u001b[0;32m----> 2\u001b[0;31m \u001b[0mc\u001b[0m\u001b[0;34m.\u001b[0m\u001b[0mexecute\u001b[0m\u001b[0;34m(\u001b[0m\u001b[0;34m\"SELECT count(*) from review\"\u001b[0m\u001b[0;34m)\u001b[0m\u001b[0;34m\u001b[0m\u001b[0m\n\u001b[0m\u001b[1;32m      3\u001b[0m \u001b[0mc\u001b[0m\u001b[0;34m.\u001b[0m\u001b[0mfetchall\u001b[0m\u001b[0;34m(\u001b[0m\u001b[0;34m)\u001b[0m\u001b[0;34m\u001b[0m\u001b[0m\n",
      "\u001b[0;31mDatabaseError\u001b[0m: database disk image is malformed"
     ]
    }
   ],
   "source": []
  },
  {
   "cell_type": "code",
   "execution_count": 12,
   "metadata": {},
   "outputs": [],
   "source": []
  },
  {
   "cell_type": "code",
   "execution_count": null,
   "metadata": {},
   "outputs": [],
   "source": []
  }
 ],
 "metadata": {
  "kernelspec": {
   "display_name": "Python 3",
   "language": "python",
   "name": "python3"
  },
  "language_info": {
   "codemirror_mode": {
    "name": "ipython",
    "version": 3
   },
   "file_extension": ".py",
   "mimetype": "text/x-python",
   "name": "python",
   "nbconvert_exporter": "python",
   "pygments_lexer": "ipython3",
   "version": "3.6.5"
  }
 },
 "nbformat": 4,
 "nbformat_minor": 2
}
