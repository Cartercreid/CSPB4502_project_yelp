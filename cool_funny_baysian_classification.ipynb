{
 "cells": [
  {
   "cell_type": "code",
   "execution_count": 1,
   "metadata": {},
   "outputs": [],
   "source": [
    "import random\n",
    "import findspark\n",
    "findspark.init()\n",
    "import pyspark as ps\n",
    "from pyspark.sql import SparkSession"
   ]
  },
  {
   "cell_type": "code",
   "execution_count": 2,
   "metadata": {},
   "outputs": [],
   "source": [
    "spark1 = SparkSession.builder.appName('Ops').getOrCreate()"
   ]
  },
  {
   "cell_type": "code",
   "execution_count": 3,
   "metadata": {},
   "outputs": [
    {
     "name": "stdout",
     "output_type": "stream",
     "text": [
      "root\n",
      " |-- business_id: string (nullable = true)\n",
      " |-- cool: long (nullable = true)\n",
      " |-- date: string (nullable = true)\n",
      " |-- funny: long (nullable = true)\n",
      " |-- review_id: string (nullable = true)\n",
      " |-- stars: double (nullable = true)\n",
      " |-- text: string (nullable = true)\n",
      " |-- useful: long (nullable = true)\n",
      " |-- user_id: string (nullable = true)\n",
      "\n"
     ]
    }
   ],
   "source": [
    "path = \"review.json\"\n",
    "review_df = spark1.read.json(path)\n",
    "review_df.printSchema()"
   ]
  },
  {
   "cell_type": "code",
   "execution_count": 5,
   "metadata": {},
   "outputs": [],
   "source": [
    "review_df.createOrReplaceTempView(\"review\")"
   ]
  },
  {
   "cell_type": "code",
   "execution_count": 11,
   "metadata": {},
   "outputs": [
    {
     "name": "stdout",
     "output_type": "stream",
     "text": [
      "+--------+\n",
      "|count(1)|\n",
      "+--------+\n",
      "| 6685899|\n",
      "+--------+\n",
      "\n"
     ]
    }
   ],
   "source": [
    "sample_review_query = spark1.sql(\"SELECT COUNT(*) from review WHERE useful >= 0\")\n",
    "sample_review_query.show()"
   ]
  },
  {
   "cell_type": "code",
   "execution_count": 12,
   "metadata": {},
   "outputs": [
    {
     "name": "stdout",
     "output_type": "stream",
     "text": [
      "6685899\n"
     ]
    }
   ],
   "source": [
    "count_var = sample_review_query.collect()[0][0]\n",
    "print(count_var)"
   ]
  },
  {
   "cell_type": "code",
   "execution_count": 13,
   "metadata": {},
   "outputs": [
    {
     "name": "stdout",
     "output_type": "stream",
     "text": [
      "+--------+\n",
      "|count(1)|\n",
      "+--------+\n",
      "| 3115446|\n",
      "+--------+\n",
      "\n"
     ]
    }
   ],
   "source": [
    "review_query = spark1.sql(\"SELECT COUNT(*) from review WHERE useful >=1\")\n",
    "review_query.show()\n",
    "useful_count = review_query.collect()[0][0]"
   ]
  },
  {
   "cell_type": "code",
   "execution_count": 14,
   "metadata": {},
   "outputs": [
    {
     "name": "stdout",
     "output_type": "stream",
     "text": [
      "+--------+\n",
      "|count(1)|\n",
      "+--------+\n",
      "| 3570453|\n",
      "+--------+\n",
      "\n"
     ]
    }
   ],
   "source": [
    "review_query = spark1.sql(\"SELECT COUNT(*) from review WHERE useful =0\")\n",
    "review_query.show()\n",
    "useless_count = review_query.collect()[0][0]"
   ]
  },
  {
   "cell_type": "code",
   "execution_count": 16,
   "metadata": {},
   "outputs": [
    {
     "name": "stdout",
     "output_type": "stream",
     "text": [
      "So far for naieve bayes theorum, we have the following probabilities:\n",
      "probability of a review beeing deemed useful by at least one person P(useful): 0.465972638832863\n",
      "probability of a review NOT beeing deemed useful by at least one person P(useless): 0.534027361167137\n"
     ]
    }
   ],
   "source": [
    "useful_probability = useful_count / count_var\n",
    "useless_probability = useless_count / count_var\n",
    "print(\"So far for naieve bayes theorum, we have the following probabilities:\")\n",
    "print(\"probability of a review beeing deemed useful by at least one person P(useful):\", useful_probability)\n",
    "print(\"probability of a review NOT beeing deemed useful by at least one person P(useless):\", useless_probability)"
   ]
  },
  {
   "cell_type": "code",
   "execution_count": null,
   "metadata": {},
   "outputs": [],
   "source": [
    "#continue the conditional probability calculations\n"
   ]
  },
  {
   "cell_type": "code",
   "execution_count": 23,
   "metadata": {},
   "outputs": [
    {
     "name": "stdout",
     "output_type": "stream",
     "text": [
      "+--------+\n",
      "|count(1)|\n",
      "+--------+\n",
      "| 1169274|\n",
      "+--------+\n",
      "\n"
     ]
    }
   ],
   "source": [
    "review_query = spark1.sql(\"SELECT COUNT(*) from review WHERE useful >=1 AND funny >= 1\")\n",
    "review_query.show()\n",
    "useful_funny_count = review_query.collect()[0][0]"
   ]
  },
  {
   "cell_type": "code",
   "execution_count": 24,
   "metadata": {},
   "outputs": [
    {
     "name": "stdout",
     "output_type": "stream",
     "text": [
      "+--------+\n",
      "|count(1)|\n",
      "+--------+\n",
      "| 1449863|\n",
      "+--------+\n",
      "\n"
     ]
    }
   ],
   "source": [
    "review_query = spark1.sql(\"SELECT COUNT(*) from review WHERE useful >=1 AND cool >= 1\")\n",
    "review_query.show()\n",
    "useful_cool_count = review_query.collect()[0][0]"
   ]
  },
  {
   "cell_type": "code",
   "execution_count": 20,
   "metadata": {},
   "outputs": [
    {
     "name": "stdout",
     "output_type": "stream",
     "text": [
      "+--------+\n",
      "|count(1)|\n",
      "+--------+\n",
      "|  204453|\n",
      "+--------+\n",
      "\n"
     ]
    }
   ],
   "source": [
    "review_query = spark1.sql(\"SELECT COUNT(*) from review WHERE useful =0 AND funny >= 1\")\n",
    "review_query.show()\n",
    "useless_funny_count = review_query.collect()[0][0]"
   ]
  },
  {
   "cell_type": "code",
   "execution_count": 21,
   "metadata": {},
   "outputs": [
    {
     "name": "stdout",
     "output_type": "stream",
     "text": [
      "+--------+\n",
      "|count(1)|\n",
      "+--------+\n",
      "|  222749|\n",
      "+--------+\n",
      "\n"
     ]
    }
   ],
   "source": [
    "review_query = spark1.sql(\"SELECT COUNT(*) from review WHERE useful =0 AND cool >= 1\")\n",
    "review_query.show()\n",
    "useless_cool_count = review_query.collect()[0][0]"
   ]
  },
  {
   "cell_type": "code",
   "execution_count": 33,
   "metadata": {},
   "outputs": [
    {
     "name": "stdout",
     "output_type": "stream",
     "text": [
      "+--------+\n",
      "|count(1)|\n",
      "+--------+\n",
      "|  873302|\n",
      "+--------+\n",
      "\n"
     ]
    }
   ],
   "source": [
    "#funny and cool reviews\n",
    "review_query = spark1.sql(\"SELECT COUNT(*) from review WHERE useful >=1 AND funny >=1 AND cool >= 1\")\n",
    "review_query.show()\n",
    "useful_funny_cool_count = review_query.collect()[0][0]"
   ]
  },
  {
   "cell_type": "code",
   "execution_count": 34,
   "metadata": {},
   "outputs": [
    {
     "name": "stdout",
     "output_type": "stream",
     "text": [
      "+--------+\n",
      "|count(1)|\n",
      "+--------+\n",
      "|   28852|\n",
      "+--------+\n",
      "\n"
     ]
    }
   ],
   "source": [
    "review_query = spark1.sql(\"SELECT COUNT(*) from review WHERE useful =0 AND funny >=1 AND cool >= 1\")\n",
    "review_query.show()\n",
    "useless_funny_cool_count = review_query.collect()[0][0]"
   ]
  },
  {
   "cell_type": "code",
   "execution_count": 38,
   "metadata": {},
   "outputs": [
    {
     "name": "stdout",
     "output_type": "stream",
     "text": [
      "+--------+\n",
      "|count(1)|\n",
      "+--------+\n",
      "| 1946172|\n",
      "+--------+\n",
      "\n"
     ]
    }
   ],
   "source": [
    "review_query = spark1.sql(\"SELECT COUNT(*) from review WHERE useful >=1 AND funny =0\")\n",
    "review_query.show()\n",
    "useful_not_funny_count = review_query.collect()[0][0]"
   ]
  },
  {
   "cell_type": "code",
   "execution_count": 39,
   "metadata": {},
   "outputs": [
    {
     "name": "stdout",
     "output_type": "stream",
     "text": [
      "+--------+\n",
      "|count(1)|\n",
      "+--------+\n",
      "| 3366000|\n",
      "+--------+\n",
      "\n"
     ]
    }
   ],
   "source": [
    "review_query = spark1.sql(\"SELECT COUNT(*) from review WHERE useful =0 AND funny =0\")\n",
    "review_query.show()\n",
    "useless_not_funny_count = review_query.collect()[0][0]"
   ]
  },
  {
   "cell_type": "code",
   "execution_count": 41,
   "metadata": {},
   "outputs": [
    {
     "name": "stdout",
     "output_type": "stream",
     "text": [
      "+--------+\n",
      "|count(1)|\n",
      "+--------+\n",
      "| 1665583|\n",
      "+--------+\n",
      "\n"
     ]
    }
   ],
   "source": [
    "review_query = spark1.sql(\"SELECT COUNT(*) from review WHERE useful >=1 AND cool =0\")\n",
    "review_query.show()\n",
    "useful_not_cool_count = review_query.collect()[0][0]"
   ]
  },
  {
   "cell_type": "code",
   "execution_count": 42,
   "metadata": {},
   "outputs": [
    {
     "name": "stdout",
     "output_type": "stream",
     "text": [
      "+--------+\n",
      "|count(1)|\n",
      "+--------+\n",
      "| 3347704|\n",
      "+--------+\n",
      "\n"
     ]
    }
   ],
   "source": [
    "review_query = spark1.sql(\"SELECT COUNT(*) from review WHERE useful =0 AND cool =0\")\n",
    "review_query.show()\n",
    "useless_not_cool_count = review_query.collect()[0][0]"
   ]
  },
  {
   "cell_type": "code",
   "execution_count": 43,
   "metadata": {},
   "outputs": [
    {
     "name": "stdout",
     "output_type": "stream",
     "text": [
      "+--------+\n",
      "|count(1)|\n",
      "+--------+\n",
      "| 1369611|\n",
      "+--------+\n",
      "\n"
     ]
    }
   ],
   "source": [
    "review_query = spark1.sql(\"SELECT COUNT(*) from review WHERE useful >= 1 AND funny = 0 AND cool = 0\")\n",
    "review_query.show()\n",
    "useful_not_funny_not_cool_count = review_query.collect()[0][0]"
   ]
  },
  {
   "cell_type": "code",
   "execution_count": 44,
   "metadata": {},
   "outputs": [
    {
     "name": "stdout",
     "output_type": "stream",
     "text": [
      "+--------+\n",
      "|count(1)|\n",
      "+--------+\n",
      "| 3172103|\n",
      "+--------+\n",
      "\n"
     ]
    }
   ],
   "source": [
    "review_query = spark1.sql(\"SELECT COUNT(*) from review WHERE useful = 0 AND funny = 0 AND cool = 0\")\n",
    "review_query.show()\n",
    "useless_not_funny_not_cool_count = review_query.collect()[0][0]"
   ]
  },
  {
   "cell_type": "code",
   "execution_count": null,
   "metadata": {},
   "outputs": [],
   "source": [
    "#my variables so far:\n",
    "\n",
    "#useful_probability\n",
    "#useless_probability\n",
    "#count_var\n",
    "#useful_count\n",
    "#useless_count\n",
    "#useful_funny_count\n",
    "#useful_cool_count\n",
    "#useless_funny_count\n",
    "#useless_cool_count\n",
    "#useful_funny_cool_count\n",
    "#useless_funny_cool_count\n",
    "\n",
    "#useful_not_funny_count\n",
    "#useless_not_funny_count\n",
    "#useful_not_cool_count\n",
    "#useless_not_cool_count\n",
    "#useful_not_funny_not_cool_count\n",
    "#useless_not_funny_not_cool_count"
   ]
  },
  {
   "cell_type": "code",
   "execution_count": 36,
   "metadata": {},
   "outputs": [
    {
     "name": "stdout",
     "output_type": "stream",
     "text": [
      "P(X|useful)\n",
      "useful_funny_probability:  0.37531512342053114\n",
      "useful_cool_probability:  0.46537895376777516\n",
      "\n",
      "P(X|useless)\n",
      "useless_funny_probability:  0.05726248181953383\n",
      "useless_cool_probability:  0.062386761567789856\n",
      "\n",
      "accounting for useful/useless probabilities:\n",
      "\n",
      "P(X|useful)*P(useful) and P(X|useless)*P(useless)\n",
      "probability of a funny review being useful:  0.17488657845414657\n",
      "probability of a funny review being useless:  0.030579732059966808\n",
      "\n",
      "probability of a cool review being useful:  0.21685385914444713\n",
      "probability of a cool review being useless:  0.033316237651810174\n",
      "\n",
      "probability of a funny + cool review being useful:  0.08138853290901665\n",
      "probability of a funny + cool review being useless:  0.0019077704528320486\n",
      "\n",
      "now if we aggregate funny and cool as a single class, what is the probability of a funny_cool_review being useful?\n",
      "\n",
      "P(X|useful)\n",
      "useful_funny_cool_probability:  0.28031363727697417\n",
      "P(X|useless)\n",
      "useless_funny_cool_probability:  0.008080767342407253\n",
      "\n",
      "P(X|useful)*P(useful) and P(X|useless)*P(useless)\n",
      "probability of a funny + cool review being useful:  0.13061848526278966\n",
      "probability of a funny + cool review being useless:  0.004315350860071324\n"
     ]
    }
   ],
   "source": [
    "#usefull_funny/useless_funny prediction\n",
    "useful_funny_probability = (useful_funny_count/useful_count)\n",
    "useless_funny_probability = (useless_funny_count/useless_count)\n",
    "#usefull_cool/useless_cool prediction\n",
    "useful_cool_probability = (useful_cool_count/useful_count)\n",
    "useless_cool_probability = (useless_cool_count/useless_count)\n",
    "useful_funny_cool_probability = (useful_funny_cool_count/useful_count)\n",
    "useless_funny_cool_probability = (useless_funny_cool_count/useless_count)\n",
    "print(\"P(X|useful)\")\n",
    "print(\"useful_funny_probability: \", useful_funny_probability)\n",
    "print(\"useful_cool_probability: \", useful_cool_probability)\n",
    "print()\n",
    "print(\"P(X|useless)\")\n",
    "print(\"useless_funny_probability: \", useless_funny_probability)\n",
    "print(\"useless_cool_probability: \", useless_cool_probability)\n",
    "print()\n",
    "print(\"accounting for useful/useless probabilities:\\n\")\n",
    "print(\"P(X|useful)*P(useful) and P(X|useless)*P(useless)\")\n",
    "print(\"probability of a funny review being useful: \", useful_funny_probability * useful_probability)\n",
    "print(\"probability of a funny review being useless: \", useless_funny_probability * useless_probability)\n",
    "print()\n",
    "print(\"probability of a cool review being useful: \", useful_cool_probability * useful_probability)\n",
    "print(\"probability of a cool review being useless: \", useless_cool_probability * useless_probability)\n",
    "print()\n",
    "print(\"probability of a funny + cool review being useful: \", useful_cool_probability * useful_funny_probability * useful_probability)\n",
    "print(\"probability of a funny + cool review being useless: \", useless_cool_probability * useless_funny_probability * useless_probability)\n",
    "print()\n",
    "print(\"now if we aggregate funny and cool as a single class, what is the probability of a funny_cool_review being useful?\\n\")\n",
    "print(\"P(X|useful)\")\n",
    "print(\"useful_funny_cool_probability: \", useful_funny_cool_probability)\n",
    "print(\"P(X|useless)\")\n",
    "print(\"useless_funny_cool_probability: \", useless_funny_cool_probability)\n",
    "print(\"\\nP(X|useful)*P(useful) and P(X|useless)*P(useless)\")\n",
    "print(\"probability of a funny + cool review being useful: \", useful_funny_cool_probability * useful_probability)\n",
    "print(\"probability of a funny + cool review being useless: \", useless_funny_cool_probability * useless_probability)"
   ]
  },
  {
   "cell_type": "code",
   "execution_count": null,
   "metadata": {},
   "outputs": [],
   "source": []
  },
  {
   "cell_type": "code",
   "execution_count": null,
   "metadata": {},
   "outputs": [],
   "source": [
    "print(\"The actual probability of a funny cool review being useful is higher than the predicted baysian \\\n",
    "      model for funny cool review being useful. We believe this to be caused by human nature. If a user \\\n",
    "      is going to check the funny and cool boxes they are more likely to check the useful review box \\\n",
    "      as well. The correlation coefficients for funny and cool reviews are very similar as well which supports this \\\n",
    "      theory.\")"
   ]
  },
  {
   "cell_type": "code",
   "execution_count": 49,
   "metadata": {},
   "outputs": [
    {
     "name": "stdout",
     "output_type": "stream",
     "text": [
      "P(X|useful)*P(useful)\n",
      "useful_not_funny_probability:  0.2910860603787165\n",
      "useful_not_cool_probability:  0.24911877968841586\n",
      "useful but not funny and not cool (classic bayes calculation):  0.15562073414328595\n",
      "useful_not_funny_not_cool_probability (as single class):  0.20485068649705895\n",
      "\n",
      "P(X|useless)*P(useless)\n",
      "useless_not_funny_probability:  0.5034476291071702\n",
      "useless_not_cool_probability:  0.5007111235153268\n",
      "useless but not funny and not cool (classic bayes calculation):  0.47203916190819206\n",
      "useless_not_funny_not_cool_probability (as a single class) 0.4744467423154314\n",
      "\n"
     ]
    }
   ],
   "source": [
    "#for the sake of completeness, lets look at useful reviews that are neither funny nor cool\n",
    "#useful_not_funny_count\n",
    "#useless_not_funny_count\n",
    "#useful_not_cool_count\n",
    "#useless_not_cool_count\n",
    "#useful_not_funny_not_cool_count\n",
    "#useless_not_funny_not_cool_count\n",
    "useful_not_funny_probability = useful_not_funny_count/useful_count\n",
    "useless_not_funny_probability = useless_not_funny_count/useless_count\n",
    "\n",
    "useful_not_cool_probability = useful_not_cool_count/useful_count\n",
    "useless_not_cool_probability = useless_not_cool_count/useless_count\n",
    "\n",
    "#aggregating not cool and not funny into a single class:\n",
    "useful_not_funny_not_cool_probability = useful_not_funny_not_cool_count/useful_count\n",
    "useless_not_funny_not_cool_probability = useless_not_funny_not_cool_count/useless_count\n",
    "\n",
    "print(\"P(X|useful)*P(useful)\")\n",
    "print(\"useful_not_funny_probability: \", useful_not_funny_probability * useful_probability)\n",
    "print(\"useful_not_cool_probability: \", useful_not_cool_probability * useful_probability)\n",
    "print(\"useful but not funny and not cool (classic bayes calculation): \", useful_not_funny_probability * useful_not_cool_probability * useful_probability)\n",
    "print(\"useful_not_funny_not_cool_probability (as single class): \", useful_not_funny_not_cool_probability * useful_probability)\n",
    "print(\"\\nP(X|useless)*P(useless)\")\n",
    "print(\"useless_not_funny_probability: \", useless_not_funny_probability * useless_probability)\n",
    "print(\"useless_not_cool_probability: \", useless_not_cool_probability * useless_probability)\n",
    "print(\"useless but not funny and not cool (classic bayes calculation): \", useless_not_funny_probability * useless_not_cool_probability * useless_probability)\n",
    "print(\"useless_not_funny_not_cool_probability (as a single class)\", useless_not_funny_not_cool_probability * useless_probability)\n",
    "print()\n",
    "\n"
   ]
  },
  {
   "cell_type": "code",
   "execution_count": 52,
   "metadata": {},
   "outputs": [
    {
     "name": "stdout",
     "output_type": "stream",
     "text": [
      "testing our model: \n",
      "+--------+\n",
      "|count(1)|\n",
      "+--------+\n",
      "|  902154|\n",
      "+--------+\n",
      "\n"
     ]
    }
   ],
   "source": [
    "print(\"testing our model: \")\n",
    "review_query = spark1.sql(\"SELECT COUNT(*) from review WHERE funny >=1 AND cool >=1\")\n",
    "review_query.show()\n",
    "funny_cool_count = review_query.collect()[0][0]\n"
   ]
  },
  {
   "cell_type": "code",
   "execution_count": 54,
   "metadata": {},
   "outputs": [
    {
     "name": "stdout",
     "output_type": "stream",
     "text": [
      "+--------+\n",
      "|count(1)|\n",
      "+--------+\n",
      "| 1373727|\n",
      "+--------+\n",
      "\n"
     ]
    }
   ],
   "source": [
    "review_query = spark1.sql(\"SELECT COUNT(*) from review WHERE funny >=1\")\n",
    "review_query.show()\n",
    "funny_count = review_query.collect()[0][0]"
   ]
  },
  {
   "cell_type": "code",
   "execution_count": 55,
   "metadata": {},
   "outputs": [
    {
     "name": "stdout",
     "output_type": "stream",
     "text": [
      "+--------+\n",
      "|count(1)|\n",
      "+--------+\n",
      "| 1672612|\n",
      "+--------+\n",
      "\n"
     ]
    }
   ],
   "source": [
    "review_query = spark1.sql(\"SELECT COUNT(*) from review WHERE cool >=1\")\n",
    "review_query.show()\n",
    "cool_count = review_query.collect()[0][0]"
   ]
  },
  {
   "cell_type": "code",
   "execution_count": null,
   "metadata": {},
   "outputs": [],
   "source": []
  },
  {
   "cell_type": "code",
   "execution_count": null,
   "metadata": {},
   "outputs": [],
   "source": []
  },
  {
   "cell_type": "code",
   "execution_count": null,
   "metadata": {},
   "outputs": [],
   "source": []
  },
  {
   "cell_type": "code",
   "execution_count": 67,
   "metadata": {},
   "outputs": [
    {
     "name": "stdout",
     "output_type": "stream",
     "text": [
      "lets apply this classification and determine how accurate this model is\n",
      "funny reviews alone would be classified/assigned to being useful, and the funny count is:  1373727 \n",
      "and funny useful count is: 1169274 \n",
      "giving us an accuracy of:  0.8511691187550365\n",
      "\n",
      "cool reviews alone would be classified/assigned to being useful, and the cool count is:  1672612 \n",
      "and cool useful count is: 1449863 \n",
      "giving us an accuracy of:  0.8668256595074052\n",
      "\n",
      "funny cool reviews would be classified/assigned to being useful, and the funny + cool count is:  902154 \n",
      "and funny cool useful count is: 873302 \n",
      "giving us a ratio of:  0.9680187639804291\n"
     ]
    }
   ],
   "source": [
    "print(\"lets apply this classification and determine how accurate this model is\")\n",
    "print(\"funny reviews alone would be classified/assigned to being useful, and the funny count is: \", funny_count, \\\n",
    "      \"\\nand funny useful count is:\", useful_funny_count, \\\n",
    "     \"\\ngiving us an accuracy of: \", useful_funny_count/funny_count)\n",
    "print()\n",
    "print(\"cool reviews alone would be classified/assigned to being useful, and the cool count is: \", cool_count, \\\n",
    "      \"\\nand cool useful count is:\", useful_cool_count, \\\n",
    "     \"\\ngiving us an accuracy of: \", useful_cool_count/cool_count)\n",
    "print()\n",
    "print(\"funny cool reviews would be classified/assigned to being useful, and the funny + cool count is: \", funny_cool_count, \\\n",
    "      \"\\nand funny cool useful count is:\", useful_funny_cool_count, \\\n",
    "     \"\\ngiving us a ratio of: \", useful_funny_cool_count/funny_cool_count)"
   ]
  },
  {
   "cell_type": "code",
   "execution_count": 68,
   "metadata": {},
   "outputs": [
    {
     "name": "stdout",
     "output_type": "stream",
     "text": [
      "Our predictive model indicates that cool and funny reviews are a pretty good indicator that a review will be useful. Predicting based on cool reviews alone gives a slightly better model then funny alone, but combined provide a very good indication that the review will be useful. This phenomenon is most likely explained by if a user is going to take the time to vote a review as funny and/or cool, they are very likely to vote the review as useful as well, as they have already invested time into voting/reviewing the review\n"
     ]
    }
   ],
   "source": [
    "print(\"Our predictive model indicates that cool and funny reviews are a pretty good \\\n",
    "indicator that a review will be useful. Predicting based on cool reviews alone gives \\\n",
    "a slightly better model then funny alone, but combined provide a very good indication \\\n",
    "that the review will be useful. This phenomenon is most likely explained by if a user \\\n",
    "is going to take the time to vote a review as funny and/or cool, they are very likely \\\n",
    "to vote the review as useful as well, as they have already invested time into voting/reviewing the review\")"
   ]
  },
  {
   "cell_type": "code",
   "execution_count": 70,
   "metadata": {},
   "outputs": [
    {
     "name": "stdout",
     "output_type": "stream",
     "text": [
      "To answer our question of which one is more useful, cool reviews are a marginally better indicator that a review will be voted useful compared to funny reviews. If a review is voted both funny and cool there is a very strong chance that the review will be useful\n"
     ]
    }
   ],
   "source": [
    "print(\"To answer our question of which one is more useful, cool reviews are a marginally \\\n",
    "better indicator that a review will be voted useful compared to funny reviews. If a review \\\n",
    "is voted both funny and cool there is a very strong chance that the review will be useful\")"
   ]
  },
  {
   "cell_type": "code",
   "execution_count": null,
   "metadata": {},
   "outputs": [],
   "source": []
  }
 ],
 "metadata": {
  "kernelspec": {
   "display_name": "Python 3",
   "language": "python",
   "name": "python3"
  },
  "language_info": {
   "codemirror_mode": {
    "name": "ipython",
    "version": 3
   },
   "file_extension": ".py",
   "mimetype": "text/x-python",
   "name": "python",
   "nbconvert_exporter": "python",
   "pygments_lexer": "ipython3",
   "version": "3.7.5"
  }
 },
 "nbformat": 4,
 "nbformat_minor": 2
}
